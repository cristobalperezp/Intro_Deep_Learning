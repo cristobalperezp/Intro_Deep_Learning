{
  "nbformat": 4,
  "nbformat_minor": 0,
  "metadata": {
    "colab": {
      "provenance": [],
      "authorship_tag": "ABX9TyOK5724hNbcgu/rV6LA1v9M",
      "include_colab_link": true
    },
    "kernelspec": {
      "name": "python3",
      "display_name": "Python 3"
    },
    "language_info": {
      "name": "python"
    },
    "accelerator": "GPU"
  },
  "cells": [
    {
      "cell_type": "markdown",
      "metadata": {
        "id": "view-in-github",
        "colab_type": "text"
      },
      "source": [
        "<a href=\"https://colab.research.google.com/github/cristobalperezp/Intro_Deep_Learning/blob/main/Tarea_1.ipynb\" target=\"_parent\"><img src=\"https://colab.research.google.com/assets/colab-badge.svg\" alt=\"Open In Colab\"/></a>"
      ]
    },
    {
      "cell_type": "markdown",
      "source": [
        "<h1 align=\"center\"> Tarea 1 - Introducción al Deep Learning\n",
        "<h2 align=\"center\">  Integrantes: \n",
        "<h3 align=\"center\"> IN6534-1 - Introducción al Deep Learning\n",
        "<h3 align=\"center\"> Primavera 2022\n",
        "\n",
        "---"
      ],
      "metadata": {
        "id": "Tc1IvbrP_Qvn"
      }
    },
    {
      "cell_type": "markdown",
      "source": [
        "# Lectura de Datos"
      ],
      "metadata": {
        "id": "cMbYk-iu_evQ"
      }
    },
    {
      "cell_type": "code",
      "source": [
        "! pip install squarify\n",
        "import numpy as np\n",
        "import pandas as pd\n",
        "\n",
        "import matplotlib.pyplot as plt\n",
        "import seaborn as sns\n",
        "import squarify\n",
        "import plotly.express as px\n",
        "import plotly.graph_objects as go\n",
        "\n",
        "import warnings\n",
        "warnings.filterwarnings(\"ignore\")\n",
        "#warnings.filterwarnings( \"ignore\", module = \"matplotlib\\..*\" )"
      ],
      "metadata": {
        "id": "aafxYnXcW4IR",
        "outputId": "140e05d1-e6fb-4af5-86fb-4fc344695d9d",
        "colab": {
          "base_uri": "https://localhost:8080/"
        }
      },
      "execution_count": 172,
      "outputs": [
        {
          "output_type": "stream",
          "name": "stdout",
          "text": [
            "Looking in indexes: https://pypi.org/simple, https://us-python.pkg.dev/colab-wheels/public/simple/\n",
            "Requirement already satisfied: squarify in /usr/local/lib/python3.7/dist-packages (0.4.3)\n"
          ]
        }
      ]
    },
    {
      "cell_type": "code",
      "source": [
        "sns.set(\n",
        "    context = 'notebook',\n",
        "    style='whitegrid',\n",
        "    palette = sns.color_palette(\"vlag\")\n",
        "    )\n",
        "cmap = sns.color_palette(\"vlag\", as_cmap=True)"
      ],
      "metadata": {
        "id": "MdkMYkVi70oq"
      },
      "execution_count": 173,
      "outputs": []
    },
    {
      "cell_type": "code",
      "source": [
        "!git clone 'https://github.com/cristobalperezp/Intro_Deep_Learning.git'"
      ],
      "metadata": {
        "colab": {
          "base_uri": "https://localhost:8080/"
        },
        "id": "BwExeuD_XEbN",
        "outputId": "c4ee36bc-bff8-4450-ea27-56e11bb8d103"
      },
      "execution_count": 174,
      "outputs": [
        {
          "output_type": "stream",
          "name": "stdout",
          "text": [
            "fatal: destination path 'Intro_Deep_Learning' already exists and is not an empty directory.\n"
          ]
        }
      ]
    },
    {
      "cell_type": "code",
      "source": [
        "path_base = '/content/Intro_Deep_Learning'"
      ],
      "metadata": {
        "id": "NiaBSyCIrGp4"
      },
      "execution_count": 175,
      "outputs": []
    },
    {
      "cell_type": "code",
      "source": [
        "df = pd.read_excel('/content/Intro_Deep_Learning/T1_credito.xlsx')"
      ],
      "metadata": {
        "id": "ybdLm1DxXGWT"
      },
      "execution_count": 176,
      "outputs": []
    },
    {
      "cell_type": "markdown",
      "source": [
        "# Análisis Exploratorio de Datos"
      ],
      "metadata": {
        "id": "hmtaJOF6_fm8"
      }
    },
    {
      "cell_type": "markdown",
      "source": [
        "## Exploración Inicial"
      ],
      "metadata": {
        "id": "r57tHpaV9hQF"
      }
    },
    {
      "cell_type": "code",
      "source": [
        "df.head()"
      ],
      "metadata": {
        "colab": {
          "base_uri": "https://localhost:8080/",
          "height": 206
        },
        "id": "c_HGNcRtXiPC",
        "outputId": "4600fb80-e8c0-4bb1-8a18-551ffae6bf8f"
      },
      "execution_count": 177,
      "outputs": [
        {
          "output_type": "execute_result",
          "data": {
            "text/plain": [
              "       ID  AgnosDirec  AgnosEmpleo      DeudaExt     DeudaInt  Edad  \\\n",
              "0  100001         4.0          2.0   9561.984843  7660.036317  40.0   \n",
              "1  100002        28.0         25.0  11985.886924  6872.030508  49.0   \n",
              "2  100003         2.0          3.0   1028.356328  1075.598877  38.0   \n",
              "3  100004        11.0         14.0  10974.303210  2377.430575  43.0   \n",
              "4  100005         3.0          1.0    842.807194  1142.827425  33.0   \n",
              "\n",
              "         Ingreso       Ingreso2 Nacionalidad NivelEdu VarObj  \n",
              "0   64117.447797   44473.097916            N   SupInc      S  \n",
              "1  124062.085998   84958.101814            N      Med      N  \n",
              "2   32010.884862   27638.818281            N   SupCom      N  \n",
              "3  172337.436327  125056.572446            N      Bas      N  \n",
              "4   25937.760762   23755.321327            N   SupInc      S  "
            ],
            "text/html": [
              "\n",
              "  <div id=\"df-fa355f9d-bc4b-4433-a39b-3c3061996a71\">\n",
              "    <div class=\"colab-df-container\">\n",
              "      <div>\n",
              "<style scoped>\n",
              "    .dataframe tbody tr th:only-of-type {\n",
              "        vertical-align: middle;\n",
              "    }\n",
              "\n",
              "    .dataframe tbody tr th {\n",
              "        vertical-align: top;\n",
              "    }\n",
              "\n",
              "    .dataframe thead th {\n",
              "        text-align: right;\n",
              "    }\n",
              "</style>\n",
              "<table border=\"1\" class=\"dataframe\">\n",
              "  <thead>\n",
              "    <tr style=\"text-align: right;\">\n",
              "      <th></th>\n",
              "      <th>ID</th>\n",
              "      <th>AgnosDirec</th>\n",
              "      <th>AgnosEmpleo</th>\n",
              "      <th>DeudaExt</th>\n",
              "      <th>DeudaInt</th>\n",
              "      <th>Edad</th>\n",
              "      <th>Ingreso</th>\n",
              "      <th>Ingreso2</th>\n",
              "      <th>Nacionalidad</th>\n",
              "      <th>NivelEdu</th>\n",
              "      <th>VarObj</th>\n",
              "    </tr>\n",
              "  </thead>\n",
              "  <tbody>\n",
              "    <tr>\n",
              "      <th>0</th>\n",
              "      <td>100001</td>\n",
              "      <td>4.0</td>\n",
              "      <td>2.0</td>\n",
              "      <td>9561.984843</td>\n",
              "      <td>7660.036317</td>\n",
              "      <td>40.0</td>\n",
              "      <td>64117.447797</td>\n",
              "      <td>44473.097916</td>\n",
              "      <td>N</td>\n",
              "      <td>SupInc</td>\n",
              "      <td>S</td>\n",
              "    </tr>\n",
              "    <tr>\n",
              "      <th>1</th>\n",
              "      <td>100002</td>\n",
              "      <td>28.0</td>\n",
              "      <td>25.0</td>\n",
              "      <td>11985.886924</td>\n",
              "      <td>6872.030508</td>\n",
              "      <td>49.0</td>\n",
              "      <td>124062.085998</td>\n",
              "      <td>84958.101814</td>\n",
              "      <td>N</td>\n",
              "      <td>Med</td>\n",
              "      <td>N</td>\n",
              "    </tr>\n",
              "    <tr>\n",
              "      <th>2</th>\n",
              "      <td>100003</td>\n",
              "      <td>2.0</td>\n",
              "      <td>3.0</td>\n",
              "      <td>1028.356328</td>\n",
              "      <td>1075.598877</td>\n",
              "      <td>38.0</td>\n",
              "      <td>32010.884862</td>\n",
              "      <td>27638.818281</td>\n",
              "      <td>N</td>\n",
              "      <td>SupCom</td>\n",
              "      <td>N</td>\n",
              "    </tr>\n",
              "    <tr>\n",
              "      <th>3</th>\n",
              "      <td>100004</td>\n",
              "      <td>11.0</td>\n",
              "      <td>14.0</td>\n",
              "      <td>10974.303210</td>\n",
              "      <td>2377.430575</td>\n",
              "      <td>43.0</td>\n",
              "      <td>172337.436327</td>\n",
              "      <td>125056.572446</td>\n",
              "      <td>N</td>\n",
              "      <td>Bas</td>\n",
              "      <td>N</td>\n",
              "    </tr>\n",
              "    <tr>\n",
              "      <th>4</th>\n",
              "      <td>100005</td>\n",
              "      <td>3.0</td>\n",
              "      <td>1.0</td>\n",
              "      <td>842.807194</td>\n",
              "      <td>1142.827425</td>\n",
              "      <td>33.0</td>\n",
              "      <td>25937.760762</td>\n",
              "      <td>23755.321327</td>\n",
              "      <td>N</td>\n",
              "      <td>SupInc</td>\n",
              "      <td>S</td>\n",
              "    </tr>\n",
              "  </tbody>\n",
              "</table>\n",
              "</div>\n",
              "      <button class=\"colab-df-convert\" onclick=\"convertToInteractive('df-fa355f9d-bc4b-4433-a39b-3c3061996a71')\"\n",
              "              title=\"Convert this dataframe to an interactive table.\"\n",
              "              style=\"display:none;\">\n",
              "        \n",
              "  <svg xmlns=\"http://www.w3.org/2000/svg\" height=\"24px\"viewBox=\"0 0 24 24\"\n",
              "       width=\"24px\">\n",
              "    <path d=\"M0 0h24v24H0V0z\" fill=\"none\"/>\n",
              "    <path d=\"M18.56 5.44l.94 2.06.94-2.06 2.06-.94-2.06-.94-.94-2.06-.94 2.06-2.06.94zm-11 1L8.5 8.5l.94-2.06 2.06-.94-2.06-.94L8.5 2.5l-.94 2.06-2.06.94zm10 10l.94 2.06.94-2.06 2.06-.94-2.06-.94-.94-2.06-.94 2.06-2.06.94z\"/><path d=\"M17.41 7.96l-1.37-1.37c-.4-.4-.92-.59-1.43-.59-.52 0-1.04.2-1.43.59L10.3 9.45l-7.72 7.72c-.78.78-.78 2.05 0 2.83L4 21.41c.39.39.9.59 1.41.59.51 0 1.02-.2 1.41-.59l7.78-7.78 2.81-2.81c.8-.78.8-2.07 0-2.86zM5.41 20L4 18.59l7.72-7.72 1.47 1.35L5.41 20z\"/>\n",
              "  </svg>\n",
              "      </button>\n",
              "      \n",
              "  <style>\n",
              "    .colab-df-container {\n",
              "      display:flex;\n",
              "      flex-wrap:wrap;\n",
              "      gap: 12px;\n",
              "    }\n",
              "\n",
              "    .colab-df-convert {\n",
              "      background-color: #E8F0FE;\n",
              "      border: none;\n",
              "      border-radius: 50%;\n",
              "      cursor: pointer;\n",
              "      display: none;\n",
              "      fill: #1967D2;\n",
              "      height: 32px;\n",
              "      padding: 0 0 0 0;\n",
              "      width: 32px;\n",
              "    }\n",
              "\n",
              "    .colab-df-convert:hover {\n",
              "      background-color: #E2EBFA;\n",
              "      box-shadow: 0px 1px 2px rgba(60, 64, 67, 0.3), 0px 1px 3px 1px rgba(60, 64, 67, 0.15);\n",
              "      fill: #174EA6;\n",
              "    }\n",
              "\n",
              "    [theme=dark] .colab-df-convert {\n",
              "      background-color: #3B4455;\n",
              "      fill: #D2E3FC;\n",
              "    }\n",
              "\n",
              "    [theme=dark] .colab-df-convert:hover {\n",
              "      background-color: #434B5C;\n",
              "      box-shadow: 0px 1px 3px 1px rgba(0, 0, 0, 0.15);\n",
              "      filter: drop-shadow(0px 1px 2px rgba(0, 0, 0, 0.3));\n",
              "      fill: #FFFFFF;\n",
              "    }\n",
              "  </style>\n",
              "\n",
              "      <script>\n",
              "        const buttonEl =\n",
              "          document.querySelector('#df-fa355f9d-bc4b-4433-a39b-3c3061996a71 button.colab-df-convert');\n",
              "        buttonEl.style.display =\n",
              "          google.colab.kernel.accessAllowed ? 'block' : 'none';\n",
              "\n",
              "        async function convertToInteractive(key) {\n",
              "          const element = document.querySelector('#df-fa355f9d-bc4b-4433-a39b-3c3061996a71');\n",
              "          const dataTable =\n",
              "            await google.colab.kernel.invokeFunction('convertToInteractive',\n",
              "                                                     [key], {});\n",
              "          if (!dataTable) return;\n",
              "\n",
              "          const docLinkHtml = 'Like what you see? Visit the ' +\n",
              "            '<a target=\"_blank\" href=https://colab.research.google.com/notebooks/data_table.ipynb>data table notebook</a>'\n",
              "            + ' to learn more about interactive tables.';\n",
              "          element.innerHTML = '';\n",
              "          dataTable['output_type'] = 'display_data';\n",
              "          await google.colab.output.renderOutput(dataTable, element);\n",
              "          const docLink = document.createElement('div');\n",
              "          docLink.innerHTML = docLinkHtml;\n",
              "          element.appendChild(docLink);\n",
              "        }\n",
              "      </script>\n",
              "    </div>\n",
              "  </div>\n",
              "  "
            ]
          },
          "metadata": {},
          "execution_count": 177
        }
      ]
    },
    {
      "cell_type": "code",
      "source": [
        "df.shape"
      ],
      "metadata": {
        "colab": {
          "base_uri": "https://localhost:8080/"
        },
        "id": "DY5UYc1HXkQP",
        "outputId": "d911eb10-6bde-4230-a0d0-b20106929a05"
      },
      "execution_count": 178,
      "outputs": [
        {
          "output_type": "execute_result",
          "data": {
            "text/plain": [
              "(3000, 11)"
            ]
          },
          "metadata": {},
          "execution_count": 178
        }
      ]
    },
    {
      "cell_type": "code",
      "source": [
        "df.info()"
      ],
      "metadata": {
        "colab": {
          "base_uri": "https://localhost:8080/"
        },
        "id": "RRxdauk_a9-8",
        "outputId": "813eece8-9b40-4951-f13f-9c51867c6cde"
      },
      "execution_count": 179,
      "outputs": [
        {
          "output_type": "stream",
          "name": "stdout",
          "text": [
            "<class 'pandas.core.frame.DataFrame'>\n",
            "RangeIndex: 3000 entries, 0 to 2999\n",
            "Data columns (total 11 columns):\n",
            " #   Column        Non-Null Count  Dtype  \n",
            "---  ------        --------------  -----  \n",
            " 0   ID            3000 non-null   int64  \n",
            " 1   AgnosDirec    2999 non-null   float64\n",
            " 2   AgnosEmpleo   2998 non-null   float64\n",
            " 3   DeudaExt      2999 non-null   float64\n",
            " 4   DeudaInt      2996 non-null   float64\n",
            " 5   Edad          2998 non-null   float64\n",
            " 6   Ingreso       2998 non-null   float64\n",
            " 7   Ingreso2      3000 non-null   float64\n",
            " 8   Nacionalidad  3000 non-null   object \n",
            " 9   NivelEdu      3000 non-null   object \n",
            " 10  VarObj        3000 non-null   object \n",
            "dtypes: float64(7), int64(1), object(3)\n",
            "memory usage: 257.9+ KB\n"
          ]
        }
      ]
    },
    {
      "cell_type": "code",
      "source": [
        "df.duplicated().sum()"
      ],
      "metadata": {
        "colab": {
          "base_uri": "https://localhost:8080/"
        },
        "id": "6gPGmT7xatWp",
        "outputId": "99e56e72-2e78-4f33-d8f4-24262aee19f5"
      },
      "execution_count": 180,
      "outputs": [
        {
          "output_type": "execute_result",
          "data": {
            "text/plain": [
              "0"
            ]
          },
          "metadata": {},
          "execution_count": 180
        }
      ]
    },
    {
      "cell_type": "code",
      "source": [
        "df.nunique()"
      ],
      "metadata": {
        "id": "jAJj5LW1P8NZ",
        "outputId": "44ba291c-1c43-4bf1-a69b-e84a8dd9ffb1",
        "colab": {
          "base_uri": "https://localhost:8080/"
        }
      },
      "execution_count": 181,
      "outputs": [
        {
          "output_type": "execute_result",
          "data": {
            "text/plain": [
              "ID              3000\n",
              "AgnosDirec        45\n",
              "AgnosEmpleo       41\n",
              "DeudaExt        2999\n",
              "DeudaInt        2996\n",
              "Edad              54\n",
              "Ingreso         2998\n",
              "Ingreso2        2999\n",
              "Nacionalidad       1\n",
              "NivelEdu           5\n",
              "VarObj             2\n",
              "dtype: int64"
            ]
          },
          "metadata": {},
          "execution_count": 181
        }
      ]
    },
    {
      "cell_type": "code",
      "source": [
        "(df.isna().sum()/df.shape[0]).sort_values().plot.barh(figsize=(10, 5))"
      ],
      "metadata": {
        "id": "8EJ45x5JxXW8",
        "outputId": "b4e8d179-140e-4fe6-d86f-18419a859005",
        "colab": {
          "base_uri": "https://localhost:8080/",
          "height": 340
        }
      },
      "execution_count": 182,
      "outputs": [
        {
          "output_type": "execute_result",
          "data": {
            "text/plain": [
              "<matplotlib.axes._subplots.AxesSubplot at 0x7f9bec9c66d0>"
            ]
          },
          "metadata": {},
          "execution_count": 182
        },
        {
          "output_type": "display_data",
          "data": {
            "text/plain": [
              "<Figure size 720x360 with 1 Axes>"
            ],
            "image/png": "[encoded data removed]"
          },
          "metadata": {}
        }
      ]
    },
    {
      "cell_type": "code",
      "source": [
        "df.describe().T.round(3)"
      ],
      "metadata": {
        "colab": {
          "base_uri": "https://localhost:8080/",
          "height": 300
        },
        "id": "0p6htO2nXmjn",
        "outputId": "5ca37c17-9558-44af-de30-3af882263d38"
      },
      "execution_count": 183,
      "outputs": [
        {
          "output_type": "execute_result",
          "data": {
            "text/plain": [
              "              count        mean        std         min         25%  \\\n",
              "ID           3000.0  101500.500    866.170  100001.000  100750.750   \n",
              "AgnosDirec   2999.0       7.088      6.962       0.000       2.000   \n",
              "AgnosEmpleo  2998.0       7.147      6.653       0.000       2.000   \n",
              "DeudaExt     2999.0    4531.013   7084.775      21.551    1110.243   \n",
              "DeudaInt     2996.0    2275.677   5409.792       8.304     416.039   \n",
              "Edad         2998.0      37.660     36.634      18.000      29.000   \n",
              "Ingreso      2998.0   62567.743  49385.681  -13123.602   30282.678   \n",
              "Ingreso2     3000.0   52152.667  42246.043   -9723.719   25109.557   \n",
              "\n",
              "                    50%         75%         max  \n",
              "ID           101500.500  102250.250  103000.000  \n",
              "AgnosDirec        5.000      10.000      61.000  \n",
              "AgnosEmpleo       5.000      10.000      47.000  \n",
              "DeudaExt       2278.662    5093.769  123939.236  \n",
              "DeudaInt        958.279    2318.271  190648.853  \n",
              "Edad             36.500      44.000    1970.000  \n",
              "Ingreso       49516.129   78851.470  536488.400  \n",
              "Ingreso2      40632.271   66206.198  513618.589  "
            ],
            "text/html": [
              "\n",
              "  <div id=\"df-38da84ab-7460-4752-ae8f-e37173ed386a\">\n",
              "    <div class=\"colab-df-container\">\n",
              "      <div>\n",
              "<style scoped>\n",
              "    .dataframe tbody tr th:only-of-type {\n",
              "        vertical-align: middle;\n",
              "    }\n",
              "\n",
              "    .dataframe tbody tr th {\n",
              "        vertical-align: top;\n",
              "    }\n",
              "\n",
              "    .dataframe thead th {\n",
              "        text-align: right;\n",
              "    }\n",
              "</style>\n",
              "<table border=\"1\" class=\"dataframe\">\n",
              "  <thead>\n",
              "    <tr style=\"text-align: right;\">\n",
              "      <th></th>\n",
              "      <th>count</th>\n",
              "      <th>mean</th>\n",
              "      <th>std</th>\n",
              "      <th>min</th>\n",
              "      <th>25%</th>\n",
              "      <th>50%</th>\n",
              "      <th>75%</th>\n",
              "      <th>max</th>\n",
              "    </tr>\n",
              "  </thead>\n",
              "  <tbody>\n",
              "    <tr>\n",
              "      <th>ID</th>\n",
              "      <td>3000.0</td>\n",
              "      <td>101500.500</td>\n",
              "      <td>866.170</td>\n",
              "      <td>100001.000</td>\n",
              "      <td>100750.750</td>\n",
              "      <td>101500.500</td>\n",
              "      <td>102250.250</td>\n",
              "      <td>103000.000</td>\n",
              "    </tr>\n",
              "    <tr>\n",
              "      <th>AgnosDirec</th>\n",
              "      <td>2999.0</td>\n",
              "      <td>7.088</td>\n",
              "      <td>6.962</td>\n",
              "      <td>0.000</td>\n",
              "      <td>2.000</td>\n",
              "      <td>5.000</td>\n",
              "      <td>10.000</td>\n",
              "      <td>61.000</td>\n",
              "    </tr>\n",
              "    <tr>\n",
              "      <th>AgnosEmpleo</th>\n",
              "      <td>2998.0</td>\n",
              "      <td>7.147</td>\n",
              "      <td>6.653</td>\n",
              "      <td>0.000</td>\n",
              "      <td>2.000</td>\n",
              "      <td>5.000</td>\n",
              "      <td>10.000</td>\n",
              "      <td>47.000</td>\n",
              "    </tr>\n",
              "    <tr>\n",
              "      <th>DeudaExt</th>\n",
              "      <td>2999.0</td>\n",
              "      <td>4531.013</td>\n",
              "      <td>7084.775</td>\n",
              "      <td>21.551</td>\n",
              "      <td>1110.243</td>\n",
              "      <td>2278.662</td>\n",
              "      <td>5093.769</td>\n",
              "      <td>123939.236</td>\n",
              "    </tr>\n",
              "    <tr>\n",
              "      <th>DeudaInt</th>\n",
              "      <td>2996.0</td>\n",
              "      <td>2275.677</td>\n",
              "      <td>5409.792</td>\n",
              "      <td>8.304</td>\n",
              "      <td>416.039</td>\n",
              "      <td>958.279</td>\n",
              "      <td>2318.271</td>\n",
              "      <td>190648.853</td>\n",
              "    </tr>\n",
              "    <tr>\n",
              "      <th>Edad</th>\n",
              "      <td>2998.0</td>\n",
              "      <td>37.660</td>\n",
              "      <td>36.634</td>\n",
              "      <td>18.000</td>\n",
              "      <td>29.000</td>\n",
              "      <td>36.500</td>\n",
              "      <td>44.000</td>\n",
              "      <td>1970.000</td>\n",
              "    </tr>\n",
              "    <tr>\n",
              "      <th>Ingreso</th>\n",
              "      <td>2998.0</td>\n",
              "      <td>62567.743</td>\n",
              "      <td>49385.681</td>\n",
              "      <td>-13123.602</td>\n",
              "      <td>30282.678</td>\n",
              "      <td>49516.129</td>\n",
              "      <td>78851.470</td>\n",
              "      <td>536488.400</td>\n",
              "    </tr>\n",
              "    <tr>\n",
              "      <th>Ingreso2</th>\n",
              "      <td>3000.0</td>\n",
              "      <td>52152.667</td>\n",
              "      <td>42246.043</td>\n",
              "      <td>-9723.719</td>\n",
              "      <td>25109.557</td>\n",
              "      <td>40632.271</td>\n",
              "      <td>66206.198</td>\n",
              "      <td>513618.589</td>\n",
              "    </tr>\n",
              "  </tbody>\n",
              "</table>\n",
              "</div>\n",
              "      <button class=\"colab-df-convert\" onclick=\"convertToInteractive('df-38da84ab-7460-4752-ae8f-e37173ed386a')\"\n",
              "              title=\"Convert this dataframe to an interactive table.\"\n",
              "              style=\"display:none;\">\n",
              "        \n",
              "  <svg xmlns=\"http://www.w3.org/2000/svg\" height=\"24px\"viewBox=\"0 0 24 24\"\n",
              "       width=\"24px\">\n",
              "    <path d=\"M0 0h24v24H0V0z\" fill=\"none\"/>\n",
              "    <path d=\"M18.56 5.44l.94 2.06.94-2.06 2.06-.94-2.06-.94-.94-2.06-.94 2.06-2.06.94zm-11 1L8.5 8.5l.94-2.06 2.06-.94-2.06-.94L8.5 2.5l-.94 2.06-2.06.94zm10 10l.94 2.06.94-2.06 2.06-.94-2.06-.94-.94-2.06-.94 2.06-2.06.94z\"/><path d=\"M17.41 7.96l-1.37-1.37c-.4-.4-.92-.59-1.43-.59-.52 0-1.04.2-1.43.59L10.3 9.45l-7.72 7.72c-.78.78-.78 2.05 0 2.83L4 21.41c.39.39.9.59 1.41.59.51 0 1.02-.2 1.41-.59l7.78-7.78 2.81-2.81c.8-.78.8-2.07 0-2.86zM5.41 20L4 18.59l7.72-7.72 1.47 1.35L5.41 20z\"/>\n",
              "  </svg>\n",
              "      </button>\n",
              "      \n",
              "  <style>\n",
              "    .colab-df-container {\n",
              "      display:flex;\n",
              "      flex-wrap:wrap;\n",
              "      gap: 12px;\n",
              "    }\n",
              "\n",
              "    .colab-df-convert {\n",
              "      background-color: #E8F0FE;\n",
              "      border: none;\n",
              "      border-radius: 50%;\n",
              "      cursor: pointer;\n",
              "      display: none;\n",
              "      fill: #1967D2;\n",
              "      height: 32px;\n",
              "      padding: 0 0 0 0;\n",
              "      width: 32px;\n",
              "    }\n",
              "\n",
              "    .colab-df-convert:hover {\n",
              "      background-color: #E2EBFA;\n",
              "      box-shadow: 0px 1px 2px rgba(60, 64, 67, 0.3), 0px 1px 3px 1px rgba(60, 64, 67, 0.15);\n",
              "      fill: #174EA6;\n",
              "    }\n",
              "\n",
              "    [theme=dark] .colab-df-convert {\n",
              "      background-color: #3B4455;\n",
              "      fill: #D2E3FC;\n",
              "    }\n",
              "\n",
              "    [theme=dark] .colab-df-convert:hover {\n",
              "      background-color: #434B5C;\n",
              "      box-shadow: 0px 1px 3px 1px rgba(0, 0, 0, 0.15);\n",
              "      filter: drop-shadow(0px 1px 2px rgba(0, 0, 0, 0.3));\n",
              "      fill: #FFFFFF;\n",
              "    }\n",
              "  </style>\n",
              "\n",
              "      <script>\n",
              "        const buttonEl =\n",
              "          document.querySelector('#df-38da84ab-7460-4752-ae8f-e37173ed386a button.colab-df-convert');\n",
              "        buttonEl.style.display =\n",
              "          google.colab.kernel.accessAllowed ? 'block' : 'none';\n",
              "\n",
              "        async function convertToInteractive(key) {\n",
              "          const element = document.querySelector('#df-38da84ab-7460-4752-ae8f-e37173ed386a');\n",
              "          const dataTable =\n",
              "            await google.colab.kernel.invokeFunction('convertToInteractive',\n",
              "                                                     [key], {});\n",
              "          if (!dataTable) return;\n",
              "\n",
              "          const docLinkHtml = 'Like what you see? Visit the ' +\n",
              "            '<a target=\"_blank\" href=https://colab.research.google.com/notebooks/data_table.ipynb>data table notebook</a>'\n",
              "            + ' to learn more about interactive tables.';\n",
              "          element.innerHTML = '';\n",
              "          dataTable['output_type'] = 'display_data';\n",
              "          await google.colab.output.renderOutput(dataTable, element);\n",
              "          const docLink = document.createElement('div');\n",
              "          docLink.innerHTML = docLinkHtml;\n",
              "          element.appendChild(docLink);\n",
              "        }\n",
              "      </script>\n",
              "    </div>\n",
              "  </div>\n",
              "  "
            ]
          },
          "metadata": {},
          "execution_count": 183
        }
      ]
    },
    {
      "cell_type": "code",
      "source": [
        "# Outliers en: Edad, Ingreso1, Ingreso2"
      ],
      "metadata": {
        "id": "azHmMv565Qpk"
      },
      "execution_count": 184,
      "outputs": []
    },
    {
      "cell_type": "code",
      "source": [
        "mask = df['Edad']>90\n",
        "df[mask]"
      ],
      "metadata": {
        "id": "18iZxksx5cA-",
        "outputId": "57d8a7b3-5700-455d-f7da-f8c6ed4ca986",
        "colab": {
          "base_uri": "https://localhost:8080/",
          "height": 81
        }
      },
      "execution_count": 185,
      "outputs": [
        {
          "output_type": "execute_result",
          "data": {
            "text/plain": [
              "         ID  AgnosDirec  AgnosEmpleo      DeudaExt     DeudaInt    Edad  \\\n",
              "137  100138         7.0         13.0  11982.421363  8423.543356  1970.0   \n",
              "\n",
              "           Ingreso       Ingreso2 Nacionalidad NivelEdu VarObj  \n",
              "137  134230.440064  114093.282397            N      Med      N  "
            ],
            "text/html": [
              "\n",
              "  <div id=\"df-0012716b-44f3-4902-97d2-27581240f6a9\">\n",
              "    <div class=\"colab-df-container\">\n",
              "      <div>\n",
              "<style scoped>\n",
              "    .dataframe tbody tr th:only-of-type {\n",
              "        vertical-align: middle;\n",
              "    }\n",
              "\n",
              "    .dataframe tbody tr th {\n",
              "        vertical-align: top;\n",
              "    }\n",
              "\n",
              "    .dataframe thead th {\n",
              "        text-align: right;\n",
              "    }\n",
              "</style>\n",
              "<table border=\"1\" class=\"dataframe\">\n",
              "  <thead>\n",
              "    <tr style=\"text-align: right;\">\n",
              "      <th></th>\n",
              "      <th>ID</th>\n",
              "      <th>AgnosDirec</th>\n",
              "      <th>AgnosEmpleo</th>\n",
              "      <th>DeudaExt</th>\n",
              "      <th>DeudaInt</th>\n",
              "      <th>Edad</th>\n",
              "      <th>Ingreso</th>\n",
              "      <th>Ingreso2</th>\n",
              "      <th>Nacionalidad</th>\n",
              "      <th>NivelEdu</th>\n",
              "      <th>VarObj</th>\n",
              "    </tr>\n",
              "  </thead>\n",
              "  <tbody>\n",
              "    <tr>\n",
              "      <th>137</th>\n",
              "      <td>100138</td>\n",
              "      <td>7.0</td>\n",
              "      <td>13.0</td>\n",
              "      <td>11982.421363</td>\n",
              "      <td>8423.543356</td>\n",
              "      <td>1970.0</td>\n",
              "      <td>134230.440064</td>\n",
              "      <td>114093.282397</td>\n",
              "      <td>N</td>\n",
              "      <td>Med</td>\n",
              "      <td>N</td>\n",
              "    </tr>\n",
              "  </tbody>\n",
              "</table>\n",
              "</div>\n",
              "      <button class=\"colab-df-convert\" onclick=\"convertToInteractive('df-0012716b-44f3-4902-97d2-27581240f6a9')\"\n",
              "              title=\"Convert this dataframe to an interactive table.\"\n",
              "              style=\"display:none;\">\n",
              "        \n",
              "  <svg xmlns=\"http://www.w3.org/2000/svg\" height=\"24px\"viewBox=\"0 0 24 24\"\n",
              "       width=\"24px\">\n",
              "    <path d=\"M0 0h24v24H0V0z\" fill=\"none\"/>\n",
              "    <path d=\"M18.56 5.44l.94 2.06.94-2.06 2.06-.94-2.06-.94-.94-2.06-.94 2.06-2.06.94zm-11 1L8.5 8.5l.94-2.06 2.06-.94-2.06-.94L8.5 2.5l-.94 2.06-2.06.94zm10 10l.94 2.06.94-2.06 2.06-.94-2.06-.94-.94-2.06-.94 2.06-2.06.94z\"/><path d=\"M17.41 7.96l-1.37-1.37c-.4-.4-.92-.59-1.43-.59-.52 0-1.04.2-1.43.59L10.3 9.45l-7.72 7.72c-.78.78-.78 2.05 0 2.83L4 21.41c.39.39.9.59 1.41.59.51 0 1.02-.2 1.41-.59l7.78-7.78 2.81-2.81c.8-.78.8-2.07 0-2.86zM5.41 20L4 18.59l7.72-7.72 1.47 1.35L5.41 20z\"/>\n",
              "  </svg>\n",
              "      </button>\n",
              "      \n",
              "  <style>\n",
              "    .colab-df-container {\n",
              "      display:flex;\n",
              "      flex-wrap:wrap;\n",
              "      gap: 12px;\n",
              "    }\n",
              "\n",
              "    .colab-df-convert {\n",
              "      background-color: #E8F0FE;\n",
              "      border: none;\n",
              "      border-radius: 50%;\n",
              "      cursor: pointer;\n",
              "      display: none;\n",
              "      fill: #1967D2;\n",
              "      height: 32px;\n",
              "      padding: 0 0 0 0;\n",
              "      width: 32px;\n",
              "    }\n",
              "\n",
              "    .colab-df-convert:hover {\n",
              "      background-color: #E2EBFA;\n",
              "      box-shadow: 0px 1px 2px rgba(60, 64, 67, 0.3), 0px 1px 3px 1px rgba(60, 64, 67, 0.15);\n",
              "      fill: #174EA6;\n",
              "    }\n",
              "\n",
              "    [theme=dark] .colab-df-convert {\n",
              "      background-color: #3B4455;\n",
              "      fill: #D2E3FC;\n",
              "    }\n",
              "\n",
              "    [theme=dark] .colab-df-convert:hover {\n",
              "      background-color: #434B5C;\n",
              "      box-shadow: 0px 1px 3px 1px rgba(0, 0, 0, 0.15);\n",
              "      filter: drop-shadow(0px 1px 2px rgba(0, 0, 0, 0.3));\n",
              "      fill: #FFFFFF;\n",
              "    }\n",
              "  </style>\n",
              "\n",
              "      <script>\n",
              "        const buttonEl =\n",
              "          document.querySelector('#df-0012716b-44f3-4902-97d2-27581240f6a9 button.colab-df-convert');\n",
              "        buttonEl.style.display =\n",
              "          google.colab.kernel.accessAllowed ? 'block' : 'none';\n",
              "\n",
              "        async function convertToInteractive(key) {\n",
              "          const element = document.querySelector('#df-0012716b-44f3-4902-97d2-27581240f6a9');\n",
              "          const dataTable =\n",
              "            await google.colab.kernel.invokeFunction('convertToInteractive',\n",
              "                                                     [key], {});\n",
              "          if (!dataTable) return;\n",
              "\n",
              "          const docLinkHtml = 'Like what you see? Visit the ' +\n",
              "            '<a target=\"_blank\" href=https://colab.research.google.com/notebooks/data_table.ipynb>data table notebook</a>'\n",
              "            + ' to learn more about interactive tables.';\n",
              "          element.innerHTML = '';\n",
              "          dataTable['output_type'] = 'display_data';\n",
              "          await google.colab.output.renderOutput(dataTable, element);\n",
              "          const docLink = document.createElement('div');\n",
              "          docLink.innerHTML = docLinkHtml;\n",
              "          element.appendChild(docLink);\n",
              "        }\n",
              "      </script>\n",
              "    </div>\n",
              "  </div>\n",
              "  "
            ]
          },
          "metadata": {},
          "execution_count": 185
        }
      ]
    },
    {
      "cell_type": "code",
      "source": [
        "mask = df['ID'] == 100138\n",
        "df.loc[mask,'Edad'] = 2022-df[mask]['Edad']"
      ],
      "metadata": {
        "id": "biYE9cepOOra"
      },
      "execution_count": 186,
      "outputs": []
    },
    {
      "cell_type": "code",
      "source": [
        "mask = df['Edad']>90\n",
        "df[mask]"
      ],
      "metadata": {
        "id": "syaBAb5wPdfp",
        "outputId": "7847692c-d1ce-4b67-8a4b-f0e0cbf086d4",
        "colab": {
          "base_uri": "https://localhost:8080/",
          "height": 49
        }
      },
      "execution_count": 187,
      "outputs": [
        {
          "output_type": "execute_result",
          "data": {
            "text/plain": [
              "Empty DataFrame\n",
              "Columns: [ID, AgnosDirec, AgnosEmpleo, DeudaExt, DeudaInt, Edad, Ingreso, Ingreso2, Nacionalidad, NivelEdu, VarObj]\n",
              "Index: []"
            ],
            "text/html": [
              "\n",
              "  <div id=\"df-5e48d77c-c39a-4622-980c-a39d586e8fb1\">\n",
              "    <div class=\"colab-df-container\">\n",
              "      <div>\n",
              "<style scoped>\n",
              "    .dataframe tbody tr th:only-of-type {\n",
              "        vertical-align: middle;\n",
              "    }\n",
              "\n",
              "    .dataframe tbody tr th {\n",
              "        vertical-align: top;\n",
              "    }\n",
              "\n",
              "    .dataframe thead th {\n",
              "        text-align: right;\n",
              "    }\n",
              "</style>\n",
              "<table border=\"1\" class=\"dataframe\">\n",
              "  <thead>\n",
              "    <tr style=\"text-align: right;\">\n",
              "      <th></th>\n",
              "      <th>ID</th>\n",
              "      <th>AgnosDirec</th>\n",
              "      <th>AgnosEmpleo</th>\n",
              "      <th>DeudaExt</th>\n",
              "      <th>DeudaInt</th>\n",
              "      <th>Edad</th>\n",
              "      <th>Ingreso</th>\n",
              "      <th>Ingreso2</th>\n",
              "      <th>Nacionalidad</th>\n",
              "      <th>NivelEdu</th>\n",
              "      <th>VarObj</th>\n",
              "    </tr>\n",
              "  </thead>\n",
              "  <tbody>\n",
              "  </tbody>\n",
              "</table>\n",
              "</div>\n",
              "      <button class=\"colab-df-convert\" onclick=\"convertToInteractive('df-5e48d77c-c39a-4622-980c-a39d586e8fb1')\"\n",
              "              title=\"Convert this dataframe to an interactive table.\"\n",
              "              style=\"display:none;\">\n",
              "        \n",
              "  <svg xmlns=\"http://www.w3.org/2000/svg\" height=\"24px\"viewBox=\"0 0 24 24\"\n",
              "       width=\"24px\">\n",
              "    <path d=\"M0 0h24v24H0V0z\" fill=\"none\"/>\n",
              "    <path d=\"M18.56 5.44l.94 2.06.94-2.06 2.06-.94-2.06-.94-.94-2.06-.94 2.06-2.06.94zm-11 1L8.5 8.5l.94-2.06 2.06-.94-2.06-.94L8.5 2.5l-.94 2.06-2.06.94zm10 10l.94 2.06.94-2.06 2.06-.94-2.06-.94-.94-2.06-.94 2.06-2.06.94z\"/><path d=\"M17.41 7.96l-1.37-1.37c-.4-.4-.92-.59-1.43-.59-.52 0-1.04.2-1.43.59L10.3 9.45l-7.72 7.72c-.78.78-.78 2.05 0 2.83L4 21.41c.39.39.9.59 1.41.59.51 0 1.02-.2 1.41-.59l7.78-7.78 2.81-2.81c.8-.78.8-2.07 0-2.86zM5.41 20L4 18.59l7.72-7.72 1.47 1.35L5.41 20z\"/>\n",
              "  </svg>\n",
              "      </button>\n",
              "      \n",
              "  <style>\n",
              "    .colab-df-container {\n",
              "      display:flex;\n",
              "      flex-wrap:wrap;\n",
              "      gap: 12px;\n",
              "    }\n",
              "\n",
              "    .colab-df-convert {\n",
              "      background-color: #E8F0FE;\n",
              "      border: none;\n",
              "      border-radius: 50%;\n",
              "      cursor: pointer;\n",
              "      display: none;\n",
              "      fill: #1967D2;\n",
              "      height: 32px;\n",
              "      padding: 0 0 0 0;\n",
              "      width: 32px;\n",
              "    }\n",
              "\n",
              "    .colab-df-convert:hover {\n",
              "      background-color: #E2EBFA;\n",
              "      box-shadow: 0px 1px 2px rgba(60, 64, 67, 0.3), 0px 1px 3px 1px rgba(60, 64, 67, 0.15);\n",
              "      fill: #174EA6;\n",
              "    }\n",
              "\n",
              "    [theme=dark] .colab-df-convert {\n",
              "      background-color: #3B4455;\n",
              "      fill: #D2E3FC;\n",
              "    }\n",
              "\n",
              "    [theme=dark] .colab-df-convert:hover {\n",
              "      background-color: #434B5C;\n",
              "      box-shadow: 0px 1px 3px 1px rgba(0, 0, 0, 0.15);\n",
              "      filter: drop-shadow(0px 1px 2px rgba(0, 0, 0, 0.3));\n",
              "      fill: #FFFFFF;\n",
              "    }\n",
              "  </style>\n",
              "\n",
              "      <script>\n",
              "        const buttonEl =\n",
              "          document.querySelector('#df-5e48d77c-c39a-4622-980c-a39d586e8fb1 button.colab-df-convert');\n",
              "        buttonEl.style.display =\n",
              "          google.colab.kernel.accessAllowed ? 'block' : 'none';\n",
              "\n",
              "        async function convertToInteractive(key) {\n",
              "          const element = document.querySelector('#df-5e48d77c-c39a-4622-980c-a39d586e8fb1');\n",
              "          const dataTable =\n",
              "            await google.colab.kernel.invokeFunction('convertToInteractive',\n",
              "                                                     [key], {});\n",
              "          if (!dataTable) return;\n",
              "\n",
              "          const docLinkHtml = 'Like what you see? Visit the ' +\n",
              "            '<a target=\"_blank\" href=https://colab.research.google.com/notebooks/data_table.ipynb>data table notebook</a>'\n",
              "            + ' to learn more about interactive tables.';\n",
              "          element.innerHTML = '';\n",
              "          dataTable['output_type'] = 'display_data';\n",
              "          await google.colab.output.renderOutput(dataTable, element);\n",
              "          const docLink = document.createElement('div');\n",
              "          docLink.innerHTML = docLinkHtml;\n",
              "          element.appendChild(docLink);\n",
              "        }\n",
              "      </script>\n",
              "    </div>\n",
              "  </div>\n",
              "  "
            ]
          },
          "metadata": {},
          "execution_count": 187
        }
      ]
    },
    {
      "cell_type": "code",
      "source": [
        "mask = df['Ingreso']<0\n",
        "df[mask]"
      ],
      "metadata": {
        "id": "wZ2qsSwL5rEg",
        "outputId": "3515f446-26c8-41b4-e57e-16f50721d2dd",
        "colab": {
          "base_uri": "https://localhost:8080/",
          "height": 81
        }
      },
      "execution_count": 188,
      "outputs": [
        {
          "output_type": "execute_result",
          "data": {
            "text/plain": [
              "         ID  AgnosDirec  AgnosEmpleo    DeudaExt    DeudaInt  Edad  \\\n",
              "521  100522         3.0          0.0  797.023075  670.738436  29.0   \n",
              "\n",
              "         Ingreso     Ingreso2 Nacionalidad NivelEdu VarObj  \n",
              "521 -13123.60228 -9723.719313            N      Bas      S  "
            ],
            "text/html": [
              "\n",
              "  <div id=\"df-883ca20d-07f1-4917-a0f0-ad423c2e6875\">\n",
              "    <div class=\"colab-df-container\">\n",
              "      <div>\n",
              "<style scoped>\n",
              "    .dataframe tbody tr th:only-of-type {\n",
              "        vertical-align: middle;\n",
              "    }\n",
              "\n",
              "    .dataframe tbody tr th {\n",
              "        vertical-align: top;\n",
              "    }\n",
              "\n",
              "    .dataframe thead th {\n",
              "        text-align: right;\n",
              "    }\n",
              "</style>\n",
              "<table border=\"1\" class=\"dataframe\">\n",
              "  <thead>\n",
              "    <tr style=\"text-align: right;\">\n",
              "      <th></th>\n",
              "      <th>ID</th>\n",
              "      <th>AgnosDirec</th>\n",
              "      <th>AgnosEmpleo</th>\n",
              "      <th>DeudaExt</th>\n",
              "      <th>DeudaInt</th>\n",
              "      <th>Edad</th>\n",
              "      <th>Ingreso</th>\n",
              "      <th>Ingreso2</th>\n",
              "      <th>Nacionalidad</th>\n",
              "      <th>NivelEdu</th>\n",
              "      <th>VarObj</th>\n",
              "    </tr>\n",
              "  </thead>\n",
              "  <tbody>\n",
              "    <tr>\n",
              "      <th>521</th>\n",
              "      <td>100522</td>\n",
              "      <td>3.0</td>\n",
              "      <td>0.0</td>\n",
              "      <td>797.023075</td>\n",
              "      <td>670.738436</td>\n",
              "      <td>29.0</td>\n",
              "      <td>-13123.60228</td>\n",
              "      <td>-9723.719313</td>\n",
              "      <td>N</td>\n",
              "      <td>Bas</td>\n",
              "      <td>S</td>\n",
              "    </tr>\n",
              "  </tbody>\n",
              "</table>\n",
              "</div>\n",
              "      <button class=\"colab-df-convert\" onclick=\"convertToInteractive('df-883ca20d-07f1-4917-a0f0-ad423c2e6875')\"\n",
              "              title=\"Convert this dataframe to an interactive table.\"\n",
              "              style=\"display:none;\">\n",
              "        \n",
              "  <svg xmlns=\"http://www.w3.org/2000/svg\" height=\"24px\"viewBox=\"0 0 24 24\"\n",
              "       width=\"24px\">\n",
              "    <path d=\"M0 0h24v24H0V0z\" fill=\"none\"/>\n",
              "    <path d=\"M18.56 5.44l.94 2.06.94-2.06 2.06-.94-2.06-.94-.94-2.06-.94 2.06-2.06.94zm-11 1L8.5 8.5l.94-2.06 2.06-.94-2.06-.94L8.5 2.5l-.94 2.06-2.06.94zm10 10l.94 2.06.94-2.06 2.06-.94-2.06-.94-.94-2.06-.94 2.06-2.06.94z\"/><path d=\"M17.41 7.96l-1.37-1.37c-.4-.4-.92-.59-1.43-.59-.52 0-1.04.2-1.43.59L10.3 9.45l-7.72 7.72c-.78.78-.78 2.05 0 2.83L4 21.41c.39.39.9.59 1.41.59.51 0 1.02-.2 1.41-.59l7.78-7.78 2.81-2.81c.8-.78.8-2.07 0-2.86zM5.41 20L4 18.59l7.72-7.72 1.47 1.35L5.41 20z\"/>\n",
              "  </svg>\n",
              "      </button>\n",
              "      \n",
              "  <style>\n",
              "    .colab-df-container {\n",
              "      display:flex;\n",
              "      flex-wrap:wrap;\n",
              "      gap: 12px;\n",
              "    }\n",
              "\n",
              "    .colab-df-convert {\n",
              "      background-color: #E8F0FE;\n",
              "      border: none;\n",
              "      border-radius: 50%;\n",
              "      cursor: pointer;\n",
              "      display: none;\n",
              "      fill: #1967D2;\n",
              "      height: 32px;\n",
              "      padding: 0 0 0 0;\n",
              "      width: 32px;\n",
              "    }\n",
              "\n",
              "    .colab-df-convert:hover {\n",
              "      background-color: #E2EBFA;\n",
              "      box-shadow: 0px 1px 2px rgba(60, 64, 67, 0.3), 0px 1px 3px 1px rgba(60, 64, 67, 0.15);\n",
              "      fill: #174EA6;\n",
              "    }\n",
              "\n",
              "    [theme=dark] .colab-df-convert {\n",
              "      background-color: #3B4455;\n",
              "      fill: #D2E3FC;\n",
              "    }\n",
              "\n",
              "    [theme=dark] .colab-df-convert:hover {\n",
              "      background-color: #434B5C;\n",
              "      box-shadow: 0px 1px 3px 1px rgba(0, 0, 0, 0.15);\n",
              "      filter: drop-shadow(0px 1px 2px rgba(0, 0, 0, 0.3));\n",
              "      fill: #FFFFFF;\n",
              "    }\n",
              "  </style>\n",
              "\n",
              "      <script>\n",
              "        const buttonEl =\n",
              "          document.querySelector('#df-883ca20d-07f1-4917-a0f0-ad423c2e6875 button.colab-df-convert');\n",
              "        buttonEl.style.display =\n",
              "          google.colab.kernel.accessAllowed ? 'block' : 'none';\n",
              "\n",
              "        async function convertToInteractive(key) {\n",
              "          const element = document.querySelector('#df-883ca20d-07f1-4917-a0f0-ad423c2e6875');\n",
              "          const dataTable =\n",
              "            await google.colab.kernel.invokeFunction('convertToInteractive',\n",
              "                                                     [key], {});\n",
              "          if (!dataTable) return;\n",
              "\n",
              "          const docLinkHtml = 'Like what you see? Visit the ' +\n",
              "            '<a target=\"_blank\" href=https://colab.research.google.com/notebooks/data_table.ipynb>data table notebook</a>'\n",
              "            + ' to learn more about interactive tables.';\n",
              "          element.innerHTML = '';\n",
              "          dataTable['output_type'] = 'display_data';\n",
              "          await google.colab.output.renderOutput(dataTable, element);\n",
              "          const docLink = document.createElement('div');\n",
              "          docLink.innerHTML = docLinkHtml;\n",
              "          element.appendChild(docLink);\n",
              "        }\n",
              "      </script>\n",
              "    </div>\n",
              "  </div>\n",
              "  "
            ]
          },
          "metadata": {},
          "execution_count": 188
        }
      ]
    },
    {
      "cell_type": "code",
      "source": [
        "mask = df['ID'] == 100522\n",
        "df.loc[mask,'Ingreso'] = -df[mask]['Ingreso']"
      ],
      "metadata": {
        "id": "BXwTMc-A6Uyx"
      },
      "execution_count": 189,
      "outputs": []
    },
    {
      "cell_type": "code",
      "source": [
        "mask = df['Ingreso']<0\n",
        "df[mask]"
      ],
      "metadata": {
        "id": "WRVmQmiOPe5O",
        "outputId": "ca26c3fa-3f4c-4e39-9db2-498d0a84022c",
        "colab": {
          "base_uri": "https://localhost:8080/",
          "height": 49
        }
      },
      "execution_count": 190,
      "outputs": [
        {
          "output_type": "execute_result",
          "data": {
            "text/plain": [
              "Empty DataFrame\n",
              "Columns: [ID, AgnosDirec, AgnosEmpleo, DeudaExt, DeudaInt, Edad, Ingreso, Ingreso2, Nacionalidad, NivelEdu, VarObj]\n",
              "Index: []"
            ],
            "text/html": [
              "\n",
              "  <div id=\"df-77af5c41-ee1c-4c65-818c-386d69292d86\">\n",
              "    <div class=\"colab-df-container\">\n",
              "      <div>\n",
              "<style scoped>\n",
              "    .dataframe tbody tr th:only-of-type {\n",
              "        vertical-align: middle;\n",
              "    }\n",
              "\n",
              "    .dataframe tbody tr th {\n",
              "        vertical-align: top;\n",
              "    }\n",
              "\n",
              "    .dataframe thead th {\n",
              "        text-align: right;\n",
              "    }\n",
              "</style>\n",
              "<table border=\"1\" class=\"dataframe\">\n",
              "  <thead>\n",
              "    <tr style=\"text-align: right;\">\n",
              "      <th></th>\n",
              "      <th>ID</th>\n",
              "      <th>AgnosDirec</th>\n",
              "      <th>AgnosEmpleo</th>\n",
              "      <th>DeudaExt</th>\n",
              "      <th>DeudaInt</th>\n",
              "      <th>Edad</th>\n",
              "      <th>Ingreso</th>\n",
              "      <th>Ingreso2</th>\n",
              "      <th>Nacionalidad</th>\n",
              "      <th>NivelEdu</th>\n",
              "      <th>VarObj</th>\n",
              "    </tr>\n",
              "  </thead>\n",
              "  <tbody>\n",
              "  </tbody>\n",
              "</table>\n",
              "</div>\n",
              "      <button class=\"colab-df-convert\" onclick=\"convertToInteractive('df-77af5c41-ee1c-4c65-818c-386d69292d86')\"\n",
              "              title=\"Convert this dataframe to an interactive table.\"\n",
              "              style=\"display:none;\">\n",
              "        \n",
              "  <svg xmlns=\"http://www.w3.org/2000/svg\" height=\"24px\"viewBox=\"0 0 24 24\"\n",
              "       width=\"24px\">\n",
              "    <path d=\"M0 0h24v24H0V0z\" fill=\"none\"/>\n",
              "    <path d=\"M18.56 5.44l.94 2.06.94-2.06 2.06-.94-2.06-.94-.94-2.06-.94 2.06-2.06.94zm-11 1L8.5 8.5l.94-2.06 2.06-.94-2.06-.94L8.5 2.5l-.94 2.06-2.06.94zm10 10l.94 2.06.94-2.06 2.06-.94-2.06-.94-.94-2.06-.94 2.06-2.06.94z\"/><path d=\"M17.41 7.96l-1.37-1.37c-.4-.4-.92-.59-1.43-.59-.52 0-1.04.2-1.43.59L10.3 9.45l-7.72 7.72c-.78.78-.78 2.05 0 2.83L4 21.41c.39.39.9.59 1.41.59.51 0 1.02-.2 1.41-.59l7.78-7.78 2.81-2.81c.8-.78.8-2.07 0-2.86zM5.41 20L4 18.59l7.72-7.72 1.47 1.35L5.41 20z\"/>\n",
              "  </svg>\n",
              "      </button>\n",
              "      \n",
              "  <style>\n",
              "    .colab-df-container {\n",
              "      display:flex;\n",
              "      flex-wrap:wrap;\n",
              "      gap: 12px;\n",
              "    }\n",
              "\n",
              "    .colab-df-convert {\n",
              "      background-color: #E8F0FE;\n",
              "      border: none;\n",
              "      border-radius: 50%;\n",
              "      cursor: pointer;\n",
              "      display: none;\n",
              "      fill: #1967D2;\n",
              "      height: 32px;\n",
              "      padding: 0 0 0 0;\n",
              "      width: 32px;\n",
              "    }\n",
              "\n",
              "    .colab-df-convert:hover {\n",
              "      background-color: #E2EBFA;\n",
              "      box-shadow: 0px 1px 2px rgba(60, 64, 67, 0.3), 0px 1px 3px 1px rgba(60, 64, 67, 0.15);\n",
              "      fill: #174EA6;\n",
              "    }\n",
              "\n",
              "    [theme=dark] .colab-df-convert {\n",
              "      background-color: #3B4455;\n",
              "      fill: #D2E3FC;\n",
              "    }\n",
              "\n",
              "    [theme=dark] .colab-df-convert:hover {\n",
              "      background-color: #434B5C;\n",
              "      box-shadow: 0px 1px 3px 1px rgba(0, 0, 0, 0.15);\n",
              "      filter: drop-shadow(0px 1px 2px rgba(0, 0, 0, 0.3));\n",
              "      fill: #FFFFFF;\n",
              "    }\n",
              "  </style>\n",
              "\n",
              "      <script>\n",
              "        const buttonEl =\n",
              "          document.querySelector('#df-77af5c41-ee1c-4c65-818c-386d69292d86 button.colab-df-convert');\n",
              "        buttonEl.style.display =\n",
              "          google.colab.kernel.accessAllowed ? 'block' : 'none';\n",
              "\n",
              "        async function convertToInteractive(key) {\n",
              "          const element = document.querySelector('#df-77af5c41-ee1c-4c65-818c-386d69292d86');\n",
              "          const dataTable =\n",
              "            await google.colab.kernel.invokeFunction('convertToInteractive',\n",
              "                                                     [key], {});\n",
              "          if (!dataTable) return;\n",
              "\n",
              "          const docLinkHtml = 'Like what you see? Visit the ' +\n",
              "            '<a target=\"_blank\" href=https://colab.research.google.com/notebooks/data_table.ipynb>data table notebook</a>'\n",
              "            + ' to learn more about interactive tables.';\n",
              "          element.innerHTML = '';\n",
              "          dataTable['output_type'] = 'display_data';\n",
              "          await google.colab.output.renderOutput(dataTable, element);\n",
              "          const docLink = document.createElement('div');\n",
              "          docLink.innerHTML = docLinkHtml;\n",
              "          element.appendChild(docLink);\n",
              "        }\n",
              "      </script>\n",
              "    </div>\n",
              "  </div>\n",
              "  "
            ]
          },
          "metadata": {},
          "execution_count": 190
        }
      ]
    },
    {
      "cell_type": "code",
      "source": [
        "mask = df['Ingreso2']<0\n",
        "df[mask]"
      ],
      "metadata": {
        "id": "LltgBawf5yTa",
        "outputId": "40eb5841-076c-42fb-ceaa-43ba668125ee",
        "colab": {
          "base_uri": "https://localhost:8080/",
          "height": 81
        }
      },
      "execution_count": 191,
      "outputs": [
        {
          "output_type": "execute_result",
          "data": {
            "text/plain": [
              "         ID  AgnosDirec  AgnosEmpleo    DeudaExt    DeudaInt  Edad  \\\n",
              "521  100522         3.0          0.0  797.023075  670.738436  29.0   \n",
              "\n",
              "         Ingreso     Ingreso2 Nacionalidad NivelEdu VarObj  \n",
              "521  13123.60228 -9723.719313            N      Bas      S  "
            ],
            "text/html": [
              "\n",
              "  <div id=\"df-7d35ae35-c8d8-465b-9f83-ff1978829eb2\">\n",
              "    <div class=\"colab-df-container\">\n",
              "      <div>\n",
              "<style scoped>\n",
              "    .dataframe tbody tr th:only-of-type {\n",
              "        vertical-align: middle;\n",
              "    }\n",
              "\n",
              "    .dataframe tbody tr th {\n",
              "        vertical-align: top;\n",
              "    }\n",
              "\n",
              "    .dataframe thead th {\n",
              "        text-align: right;\n",
              "    }\n",
              "</style>\n",
              "<table border=\"1\" class=\"dataframe\">\n",
              "  <thead>\n",
              "    <tr style=\"text-align: right;\">\n",
              "      <th></th>\n",
              "      <th>ID</th>\n",
              "      <th>AgnosDirec</th>\n",
              "      <th>AgnosEmpleo</th>\n",
              "      <th>DeudaExt</th>\n",
              "      <th>DeudaInt</th>\n",
              "      <th>Edad</th>\n",
              "      <th>Ingreso</th>\n",
              "      <th>Ingreso2</th>\n",
              "      <th>Nacionalidad</th>\n",
              "      <th>NivelEdu</th>\n",
              "      <th>VarObj</th>\n",
              "    </tr>\n",
              "  </thead>\n",
              "  <tbody>\n",
              "    <tr>\n",
              "      <th>521</th>\n",
              "      <td>100522</td>\n",
              "      <td>3.0</td>\n",
              "      <td>0.0</td>\n",
              "      <td>797.023075</td>\n",
              "      <td>670.738436</td>\n",
              "      <td>29.0</td>\n",
              "      <td>13123.60228</td>\n",
              "      <td>-9723.719313</td>\n",
              "      <td>N</td>\n",
              "      <td>Bas</td>\n",
              "      <td>S</td>\n",
              "    </tr>\n",
              "  </tbody>\n",
              "</table>\n",
              "</div>\n",
              "      <button class=\"colab-df-convert\" onclick=\"convertToInteractive('df-7d35ae35-c8d8-465b-9f83-ff1978829eb2')\"\n",
              "              title=\"Convert this dataframe to an interactive table.\"\n",
              "              style=\"display:none;\">\n",
              "        \n",
              "  <svg xmlns=\"http://www.w3.org/2000/svg\" height=\"24px\"viewBox=\"0 0 24 24\"\n",
              "       width=\"24px\">\n",
              "    <path d=\"M0 0h24v24H0V0z\" fill=\"none\"/>\n",
              "    <path d=\"M18.56 5.44l.94 2.06.94-2.06 2.06-.94-2.06-.94-.94-2.06-.94 2.06-2.06.94zm-11 1L8.5 8.5l.94-2.06 2.06-.94-2.06-.94L8.5 2.5l-.94 2.06-2.06.94zm10 10l.94 2.06.94-2.06 2.06-.94-2.06-.94-.94-2.06-.94 2.06-2.06.94z\"/><path d=\"M17.41 7.96l-1.37-1.37c-.4-.4-.92-.59-1.43-.59-.52 0-1.04.2-1.43.59L10.3 9.45l-7.72 7.72c-.78.78-.78 2.05 0 2.83L4 21.41c.39.39.9.59 1.41.59.51 0 1.02-.2 1.41-.59l7.78-7.78 2.81-2.81c.8-.78.8-2.07 0-2.86zM5.41 20L4 18.59l7.72-7.72 1.47 1.35L5.41 20z\"/>\n",
              "  </svg>\n",
              "      </button>\n",
              "      \n",
              "  <style>\n",
              "    .colab-df-container {\n",
              "      display:flex;\n",
              "      flex-wrap:wrap;\n",
              "      gap: 12px;\n",
              "    }\n",
              "\n",
              "    .colab-df-convert {\n",
              "      background-color: #E8F0FE;\n",
              "      border: none;\n",
              "      border-radius: 50%;\n",
              "      cursor: pointer;\n",
              "      display: none;\n",
              "      fill: #1967D2;\n",
              "      height: 32px;\n",
              "      padding: 0 0 0 0;\n",
              "      width: 32px;\n",
              "    }\n",
              "\n",
              "    .colab-df-convert:hover {\n",
              "      background-color: #E2EBFA;\n",
              "      box-shadow: 0px 1px 2px rgba(60, 64, 67, 0.3), 0px 1px 3px 1px rgba(60, 64, 67, 0.15);\n",
              "      fill: #174EA6;\n",
              "    }\n",
              "\n",
              "    [theme=dark] .colab-df-convert {\n",
              "      background-color: #3B4455;\n",
              "      fill: #D2E3FC;\n",
              "    }\n",
              "\n",
              "    [theme=dark] .colab-df-convert:hover {\n",
              "      background-color: #434B5C;\n",
              "      box-shadow: 0px 1px 3px 1px rgba(0, 0, 0, 0.15);\n",
              "      filter: drop-shadow(0px 1px 2px rgba(0, 0, 0, 0.3));\n",
              "      fill: #FFFFFF;\n",
              "    }\n",
              "  </style>\n",
              "\n",
              "      <script>\n",
              "        const buttonEl =\n",
              "          document.querySelector('#df-7d35ae35-c8d8-465b-9f83-ff1978829eb2 button.colab-df-convert');\n",
              "        buttonEl.style.display =\n",
              "          google.colab.kernel.accessAllowed ? 'block' : 'none';\n",
              "\n",
              "        async function convertToInteractive(key) {\n",
              "          const element = document.querySelector('#df-7d35ae35-c8d8-465b-9f83-ff1978829eb2');\n",
              "          const dataTable =\n",
              "            await google.colab.kernel.invokeFunction('convertToInteractive',\n",
              "                                                     [key], {});\n",
              "          if (!dataTable) return;\n",
              "\n",
              "          const docLinkHtml = 'Like what you see? Visit the ' +\n",
              "            '<a target=\"_blank\" href=https://colab.research.google.com/notebooks/data_table.ipynb>data table notebook</a>'\n",
              "            + ' to learn more about interactive tables.';\n",
              "          element.innerHTML = '';\n",
              "          dataTable['output_type'] = 'display_data';\n",
              "          await google.colab.output.renderOutput(dataTable, element);\n",
              "          const docLink = document.createElement('div');\n",
              "          docLink.innerHTML = docLinkHtml;\n",
              "          element.appendChild(docLink);\n",
              "        }\n",
              "      </script>\n",
              "    </div>\n",
              "  </div>\n",
              "  "
            ]
          },
          "metadata": {},
          "execution_count": 191
        }
      ]
    },
    {
      "cell_type": "code",
      "source": [
        "mask = df['ID'] == 100522\n",
        "df.loc[mask,'Ingreso2'] = -df[mask]['Ingreso2']"
      ],
      "metadata": {
        "id": "sfz-XIef6ZLI"
      },
      "execution_count": 192,
      "outputs": []
    },
    {
      "cell_type": "code",
      "source": [
        "mask = df['Ingreso2']<0\n",
        "df[mask]"
      ],
      "metadata": {
        "id": "U2JSwu53Pgkh",
        "outputId": "72a4ae9c-0e01-49b0-bfae-252f6b5d676f",
        "colab": {
          "base_uri": "https://localhost:8080/",
          "height": 49
        }
      },
      "execution_count": 193,
      "outputs": [
        {
          "output_type": "execute_result",
          "data": {
            "text/plain": [
              "Empty DataFrame\n",
              "Columns: [ID, AgnosDirec, AgnosEmpleo, DeudaExt, DeudaInt, Edad, Ingreso, Ingreso2, Nacionalidad, NivelEdu, VarObj]\n",
              "Index: []"
            ],
            "text/html": [
              "\n",
              "  <div id=\"df-97076414-46eb-43a2-8ebb-68456ae42aed\">\n",
              "    <div class=\"colab-df-container\">\n",
              "      <div>\n",
              "<style scoped>\n",
              "    .dataframe tbody tr th:only-of-type {\n",
              "        vertical-align: middle;\n",
              "    }\n",
              "\n",
              "    .dataframe tbody tr th {\n",
              "        vertical-align: top;\n",
              "    }\n",
              "\n",
              "    .dataframe thead th {\n",
              "        text-align: right;\n",
              "    }\n",
              "</style>\n",
              "<table border=\"1\" class=\"dataframe\">\n",
              "  <thead>\n",
              "    <tr style=\"text-align: right;\">\n",
              "      <th></th>\n",
              "      <th>ID</th>\n",
              "      <th>AgnosDirec</th>\n",
              "      <th>AgnosEmpleo</th>\n",
              "      <th>DeudaExt</th>\n",
              "      <th>DeudaInt</th>\n",
              "      <th>Edad</th>\n",
              "      <th>Ingreso</th>\n",
              "      <th>Ingreso2</th>\n",
              "      <th>Nacionalidad</th>\n",
              "      <th>NivelEdu</th>\n",
              "      <th>VarObj</th>\n",
              "    </tr>\n",
              "  </thead>\n",
              "  <tbody>\n",
              "  </tbody>\n",
              "</table>\n",
              "</div>\n",
              "      <button class=\"colab-df-convert\" onclick=\"convertToInteractive('df-97076414-46eb-43a2-8ebb-68456ae42aed')\"\n",
              "              title=\"Convert this dataframe to an interactive table.\"\n",
              "              style=\"display:none;\">\n",
              "        \n",
              "  <svg xmlns=\"http://www.w3.org/2000/svg\" height=\"24px\"viewBox=\"0 0 24 24\"\n",
              "       width=\"24px\">\n",
              "    <path d=\"M0 0h24v24H0V0z\" fill=\"none\"/>\n",
              "    <path d=\"M18.56 5.44l.94 2.06.94-2.06 2.06-.94-2.06-.94-.94-2.06-.94 2.06-2.06.94zm-11 1L8.5 8.5l.94-2.06 2.06-.94-2.06-.94L8.5 2.5l-.94 2.06-2.06.94zm10 10l.94 2.06.94-2.06 2.06-.94-2.06-.94-.94-2.06-.94 2.06-2.06.94z\"/><path d=\"M17.41 7.96l-1.37-1.37c-.4-.4-.92-.59-1.43-.59-.52 0-1.04.2-1.43.59L10.3 9.45l-7.72 7.72c-.78.78-.78 2.05 0 2.83L4 21.41c.39.39.9.59 1.41.59.51 0 1.02-.2 1.41-.59l7.78-7.78 2.81-2.81c.8-.78.8-2.07 0-2.86zM5.41 20L4 18.59l7.72-7.72 1.47 1.35L5.41 20z\"/>\n",
              "  </svg>\n",
              "      </button>\n",
              "      \n",
              "  <style>\n",
              "    .colab-df-container {\n",
              "      display:flex;\n",
              "      flex-wrap:wrap;\n",
              "      gap: 12px;\n",
              "    }\n",
              "\n",
              "    .colab-df-convert {\n",
              "      background-color: #E8F0FE;\n",
              "      border: none;\n",
              "      border-radius: 50%;\n",
              "      cursor: pointer;\n",
              "      display: none;\n",
              "      fill: #1967D2;\n",
              "      height: 32px;\n",
              "      padding: 0 0 0 0;\n",
              "      width: 32px;\n",
              "    }\n",
              "\n",
              "    .colab-df-convert:hover {\n",
              "      background-color: #E2EBFA;\n",
              "      box-shadow: 0px 1px 2px rgba(60, 64, 67, 0.3), 0px 1px 3px 1px rgba(60, 64, 67, 0.15);\n",
              "      fill: #174EA6;\n",
              "    }\n",
              "\n",
              "    [theme=dark] .colab-df-convert {\n",
              "      background-color: #3B4455;\n",
              "      fill: #D2E3FC;\n",
              "    }\n",
              "\n",
              "    [theme=dark] .colab-df-convert:hover {\n",
              "      background-color: #434B5C;\n",
              "      box-shadow: 0px 1px 3px 1px rgba(0, 0, 0, 0.15);\n",
              "      filter: drop-shadow(0px 1px 2px rgba(0, 0, 0, 0.3));\n",
              "      fill: #FFFFFF;\n",
              "    }\n",
              "  </style>\n",
              "\n",
              "      <script>\n",
              "        const buttonEl =\n",
              "          document.querySelector('#df-97076414-46eb-43a2-8ebb-68456ae42aed button.colab-df-convert');\n",
              "        buttonEl.style.display =\n",
              "          google.colab.kernel.accessAllowed ? 'block' : 'none';\n",
              "\n",
              "        async function convertToInteractive(key) {\n",
              "          const element = document.querySelector('#df-97076414-46eb-43a2-8ebb-68456ae42aed');\n",
              "          const dataTable =\n",
              "            await google.colab.kernel.invokeFunction('convertToInteractive',\n",
              "                                                     [key], {});\n",
              "          if (!dataTable) return;\n",
              "\n",
              "          const docLinkHtml = 'Like what you see? Visit the ' +\n",
              "            '<a target=\"_blank\" href=https://colab.research.google.com/notebooks/data_table.ipynb>data table notebook</a>'\n",
              "            + ' to learn more about interactive tables.';\n",
              "          element.innerHTML = '';\n",
              "          dataTable['output_type'] = 'display_data';\n",
              "          await google.colab.output.renderOutput(dataTable, element);\n",
              "          const docLink = document.createElement('div');\n",
              "          docLink.innerHTML = docLinkHtml;\n",
              "          element.appendChild(docLink);\n",
              "        }\n",
              "      </script>\n",
              "    </div>\n",
              "  </div>\n",
              "  "
            ]
          },
          "metadata": {},
          "execution_count": 193
        }
      ]
    },
    {
      "cell_type": "code",
      "source": [
        "graf = df.copy()\n",
        "graf = graf.iloc[:,1:8]\n",
        "\n",
        "f = plt.figure(figsize=(15,15))\n",
        "for i in range(7):\n",
        "    f.add_subplot(4, 3, i+1)\n",
        "    sns.distplot(graf.iloc[:,i])\n",
        "plt.show()"
      ],
      "metadata": {
        "id": "7HvbpZ6kYF9-",
        "outputId": "661fbda7-03ba-43d8-df22-a2cf42859ca1",
        "colab": {
          "base_uri": "https://localhost:8080/",
          "height": 670
        }
      },
      "execution_count": 194,
      "outputs": [
        {
          "output_type": "display_data",
          "data": {
            "text/plain": [
              "<Figure size 1080x1080 with 7 Axes>"
            ],
            "image/png": "[encoded data removed]"
          },
          "metadata": {}
        }
      ]
    },
    {
      "cell_type": "code",
      "source": [
        "#fig, axes = plt.subplots(figsize=(15,15),ncols=4, nrows=2)\n",
        "\n",
        "#for i, ax in zip(range(1,8), axes.flat):\n",
        " #   sns.distplot(df.iloc[:,i], ax=ax)\n",
        "#plt.show()"
      ],
      "metadata": {
        "id": "xzOdD9sjX4bd"
      },
      "execution_count": 195,
      "outputs": []
    },
    {
      "cell_type": "code",
      "source": [
        "a = df.groupby('NivelEdu').sum().index.get_level_values(0).tolist()\n",
        "d = df.groupby('NivelEdu').count().reset_index()['ID'].tolist()\n",
        "for i in range(len(a)):\n",
        "  a[i] = str(a[i]) + ' (' + str(d[i])+ ')'\n",
        "plt.figure(figsize=(8,8))\n",
        "squarify.plot(sizes=d, label=a, alpha=.6)\n",
        "plt.axis('off')\n",
        "plt.show()"
      ],
      "metadata": {
        "id": "wid0Js3tbRRy",
        "outputId": "1ad17aee-797a-4998-a680-7be87754d852",
        "colab": {
          "base_uri": "https://localhost:8080/",
          "height": 466
        }
      },
      "execution_count": 196,
      "outputs": [
        {
          "output_type": "display_data",
          "data": {
            "text/plain": [
              "<Figure size 576x576 with 1 Axes>"
            ],
            "image/png": "[encoded data removed]"
          },
          "metadata": {}
        }
      ]
    },
    {
      "cell_type": "code",
      "source": [
        "mask = df['VarObj'] == 'S'\n",
        "a = df[mask].groupby('NivelEdu').sum().index.get_level_values(0).tolist()\n",
        "d = df[mask].groupby('NivelEdu').count().reset_index()['ID'].tolist()\n",
        "for i in range(len(a)):\n",
        "  a[i] = str(a[i]) + ' (' + str(d[i])+ ')'\n",
        "plt.figure(figsize=(8,8))\n",
        "squarify.plot(sizes=d, label=a, alpha=.6)\n",
        "plt.axis('off')\n",
        "plt.show()"
      ],
      "metadata": {
        "id": "W7zVlNmWcIh4",
        "outputId": "dca33777-3833-4ab0-aa87-4ba6c544b243",
        "colab": {
          "base_uri": "https://localhost:8080/",
          "height": 466
        }
      },
      "execution_count": 197,
      "outputs": [
        {
          "output_type": "display_data",
          "data": {
            "text/plain": [
              "<Figure size 576x576 with 1 Axes>"
            ],
            "image/png": "[encoded data removed]"
          },
          "metadata": {}
        }
      ]
    },
    {
      "cell_type": "code",
      "source": [
        "mask = df['VarObj'] == 'N'\n",
        "a = df[mask].groupby('NivelEdu').sum().index.get_level_values(0).tolist()\n",
        "d = df[mask].groupby('NivelEdu').count().reset_index()['ID'].tolist()\n",
        "for i in range(len(a)):\n",
        "  a[i] = str(a[i]) + ' (' + str(d[i])+ ')'\n",
        "plt.figure(figsize=(8,8))\n",
        "squarify.plot(sizes=d, label=a, alpha=.6)\n",
        "plt.axis('off')\n",
        "plt.show()"
      ],
      "metadata": {
        "id": "TpR9g4ztcIaF",
        "outputId": "e8c5fae5-616f-42df-8c95-2375575e4ebc",
        "colab": {
          "base_uri": "https://localhost:8080/",
          "height": 466
        }
      },
      "execution_count": 198,
      "outputs": [
        {
          "output_type": "display_data",
          "data": {
            "text/plain": [
              "<Figure size 576x576 with 1 Axes>"
            ],
            "image/png": "[encoded data removed]"
          },
          "metadata": {}
        }
      ]
    },
    {
      "cell_type": "code",
      "source": [
        "a = df.groupby('VarObj').count().index.get_level_values(0).tolist()\n",
        "d = df.groupby('VarObj').count().reset_index()['ID'].tolist()\n",
        "for i in range(len(a)):\n",
        "  a[i] = str(a[i]) + ' (' + str(d[i])+ ')'\n",
        "plt.figure(figsize=(8,8))\n",
        "squarify.plot(sizes=d, label=a, alpha=.6)\n",
        "plt.axis('off')\n",
        "plt.show()"
      ],
      "metadata": {
        "id": "l6_qqhDxhieO",
        "outputId": "b83ee033-cbff-4858-d958-354dd9dde98e",
        "colab": {
          "base_uri": "https://localhost:8080/",
          "height": 466
        }
      },
      "execution_count": 199,
      "outputs": [
        {
          "output_type": "display_data",
          "data": {
            "text/plain": [
              "<Figure size 576x576 with 1 Axes>"
            ],
            "image/png": "[encoded data removed]"
          },
          "metadata": {}
        }
      ]
    },
    {
      "cell_type": "code",
      "source": [
        "fig, ax = plt.subplots(figsize=(10, 10))\n",
        "pd.crosstab(index=df['VarObj'], \n",
        "            columns=df['NivelEdu']\n",
        "           ).apply(lambda r: r/r.sum() *100,\n",
        "                                axis=0).T.plot(kind='barh',stacked=True,width=0.95,ax=ax)"
      ],
      "metadata": {
        "id": "8z3vcfWdNmtN",
        "outputId": "56f46bad-1907-413a-ef27-0262b15cb68b",
        "colab": {
          "base_uri": "https://localhost:8080/",
          "height": 612
        }
      },
      "execution_count": 200,
      "outputs": [
        {
          "output_type": "execute_result",
          "data": {
            "text/plain": [
              "<matplotlib.axes._subplots.AxesSubplot at 0x7f9be785a690>"
            ]
          },
          "metadata": {},
          "execution_count": 200
        },
        {
          "output_type": "display_data",
          "data": {
            "text/plain": [
              "<Figure size 720x720 with 1 Axes>"
            ],
            "image/png": "[encoded data removed]"
          },
          "metadata": {}
        }
      ]
    },
    {
      "cell_type": "markdown",
      "source": [
        "## Pre-procesamiento"
      ],
      "metadata": {
        "id": "zfIoLUgF_gOJ"
      }
    },
    {
      "cell_type": "code",
      "source": [
        "null = ['AgnosDirec','AgnosEmpleo','DeudaExt','DeudaInt','Edad','Ingreso']\n",
        "for n in null:\n",
        "  mean = df[n].mean(skipna=True)\n",
        "  df[n].fillna(value=mean,inplace=True)\n",
        "df.isna().sum()"
      ],
      "metadata": {
        "id": "711Kw2vbxq_0",
        "outputId": "3dfb0ee7-ff9d-4f0d-c19d-fc120a96c010",
        "colab": {
          "base_uri": "https://localhost:8080/"
        }
      },
      "execution_count": 201,
      "outputs": [
        {
          "output_type": "execute_result",
          "data": {
            "text/plain": [
              "ID              0\n",
              "AgnosDirec      0\n",
              "AgnosEmpleo     0\n",
              "DeudaExt        0\n",
              "DeudaInt        0\n",
              "Edad            0\n",
              "Ingreso         0\n",
              "Ingreso2        0\n",
              "Nacionalidad    0\n",
              "NivelEdu        0\n",
              "VarObj          0\n",
              "dtype: int64"
            ]
          },
          "metadata": {},
          "execution_count": 201
        }
      ]
    },
    {
      "cell_type": "code",
      "source": [
        "df['DeudaIng'] = (df['DeudaExt']+df['DeudaInt'])/df['Ingreso']\n",
        "df.head()"
      ],
      "metadata": {
        "id": "E1rMqT4PyjZu",
        "outputId": "8080e1e4-27d8-43e9-c449-b76f49b46441",
        "colab": {
          "base_uri": "https://localhost:8080/",
          "height": 206
        }
      },
      "execution_count": 202,
      "outputs": [
        {
          "output_type": "execute_result",
          "data": {
            "text/plain": [
              "       ID  AgnosDirec  AgnosEmpleo      DeudaExt     DeudaInt  Edad  \\\n",
              "0  100001         4.0          2.0   9561.984843  7660.036317  40.0   \n",
              "1  100002        28.0         25.0  11985.886924  6872.030508  49.0   \n",
              "2  100003         2.0          3.0   1028.356328  1075.598877  38.0   \n",
              "3  100004        11.0         14.0  10974.303210  2377.430575  43.0   \n",
              "4  100005         3.0          1.0    842.807194  1142.827425  33.0   \n",
              "\n",
              "         Ingreso       Ingreso2 Nacionalidad NivelEdu VarObj  DeudaIng  \n",
              "0   64117.447797   44473.097916            N   SupInc      S  0.268601  \n",
              "1  124062.085998   84958.101814            N      Med      N  0.152004  \n",
              "2   32010.884862   27638.818281            N   SupCom      N  0.065726  \n",
              "3  172337.436327  125056.572446            N      Bas      N  0.077474  \n",
              "4   25937.760762   23755.321327            N   SupInc      S  0.076554  "
            ],
            "text/html": [
              "\n",
              "  <div id=\"df-2d0fef03-6afc-4be0-afa1-4c43a7423dff\">\n",
              "    <div class=\"colab-df-container\">\n",
              "      <div>\n",
              "<style scoped>\n",
              "    .dataframe tbody tr th:only-of-type {\n",
              "        vertical-align: middle;\n",
              "    }\n",
              "\n",
              "    .dataframe tbody tr th {\n",
              "        vertical-align: top;\n",
              "    }\n",
              "\n",
              "    .dataframe thead th {\n",
              "        text-align: right;\n",
              "    }\n",
              "</style>\n",
              "<table border=\"1\" class=\"dataframe\">\n",
              "  <thead>\n",
              "    <tr style=\"text-align: right;\">\n",
              "      <th></th>\n",
              "      <th>ID</th>\n",
              "      <th>AgnosDirec</th>\n",
              "      <th>AgnosEmpleo</th>\n",
              "      <th>DeudaExt</th>\n",
              "      <th>DeudaInt</th>\n",
              "      <th>Edad</th>\n",
              "      <th>Ingreso</th>\n",
              "      <th>Ingreso2</th>\n",
              "      <th>Nacionalidad</th>\n",
              "      <th>NivelEdu</th>\n",
              "      <th>VarObj</th>\n",
              "      <th>DeudaIng</th>\n",
              "    </tr>\n",
              "  </thead>\n",
              "  <tbody>\n",
              "    <tr>\n",
              "      <th>0</th>\n",
              "      <td>100001</td>\n",
              "      <td>4.0</td>\n",
              "      <td>2.0</td>\n",
              "      <td>9561.984843</td>\n",
              "      <td>7660.036317</td>\n",
              "      <td>40.0</td>\n",
              "      <td>64117.447797</td>\n",
              "      <td>44473.097916</td>\n",
              "      <td>N</td>\n",
              "      <td>SupInc</td>\n",
              "      <td>S</td>\n",
              "      <td>0.268601</td>\n",
              "    </tr>\n",
              "    <tr>\n",
              "      <th>1</th>\n",
              "      <td>100002</td>\n",
              "      <td>28.0</td>\n",
              "      <td>25.0</td>\n",
              "      <td>11985.886924</td>\n",
              "      <td>6872.030508</td>\n",
              "      <td>49.0</td>\n",
              "      <td>124062.085998</td>\n",
              "      <td>84958.101814</td>\n",
              "      <td>N</td>\n",
              "      <td>Med</td>\n",
              "      <td>N</td>\n",
              "      <td>0.152004</td>\n",
              "    </tr>\n",
              "    <tr>\n",
              "      <th>2</th>\n",
              "      <td>100003</td>\n",
              "      <td>2.0</td>\n",
              "      <td>3.0</td>\n",
              "      <td>1028.356328</td>\n",
              "      <td>1075.598877</td>\n",
              "      <td>38.0</td>\n",
              "      <td>32010.884862</td>\n",
              "      <td>27638.818281</td>\n",
              "      <td>N</td>\n",
              "      <td>SupCom</td>\n",
              "      <td>N</td>\n",
              "      <td>0.065726</td>\n",
              "    </tr>\n",
              "    <tr>\n",
              "      <th>3</th>\n",
              "      <td>100004</td>\n",
              "      <td>11.0</td>\n",
              "      <td>14.0</td>\n",
              "      <td>10974.303210</td>\n",
              "      <td>2377.430575</td>\n",
              "      <td>43.0</td>\n",
              "      <td>172337.436327</td>\n",
              "      <td>125056.572446</td>\n",
              "      <td>N</td>\n",
              "      <td>Bas</td>\n",
              "      <td>N</td>\n",
              "      <td>0.077474</td>\n",
              "    </tr>\n",
              "    <tr>\n",
              "      <th>4</th>\n",
              "      <td>100005</td>\n",
              "      <td>3.0</td>\n",
              "      <td>1.0</td>\n",
              "      <td>842.807194</td>\n",
              "      <td>1142.827425</td>\n",
              "      <td>33.0</td>\n",
              "      <td>25937.760762</td>\n",
              "      <td>23755.321327</td>\n",
              "      <td>N</td>\n",
              "      <td>SupInc</td>\n",
              "      <td>S</td>\n",
              "      <td>0.076554</td>\n",
              "    </tr>\n",
              "  </tbody>\n",
              "</table>\n",
              "</div>\n",
              "      <button class=\"colab-df-convert\" onclick=\"convertToInteractive('df-2d0fef03-6afc-4be0-afa1-4c43a7423dff')\"\n",
              "              title=\"Convert this dataframe to an interactive table.\"\n",
              "              style=\"display:none;\">\n",
              "        \n",
              "  <svg xmlns=\"http://www.w3.org/2000/svg\" height=\"24px\"viewBox=\"0 0 24 24\"\n",
              "       width=\"24px\">\n",
              "    <path d=\"M0 0h24v24H0V0z\" fill=\"none\"/>\n",
              "    <path d=\"M18.56 5.44l.94 2.06.94-2.06 2.06-.94-2.06-.94-.94-2.06-.94 2.06-2.06.94zm-11 1L8.5 8.5l.94-2.06 2.06-.94-2.06-.94L8.5 2.5l-.94 2.06-2.06.94zm10 10l.94 2.06.94-2.06 2.06-.94-2.06-.94-.94-2.06-.94 2.06-2.06.94z\"/><path d=\"M17.41 7.96l-1.37-1.37c-.4-.4-.92-.59-1.43-.59-.52 0-1.04.2-1.43.59L10.3 9.45l-7.72 7.72c-.78.78-.78 2.05 0 2.83L4 21.41c.39.39.9.59 1.41.59.51 0 1.02-.2 1.41-.59l7.78-7.78 2.81-2.81c.8-.78.8-2.07 0-2.86zM5.41 20L4 18.59l7.72-7.72 1.47 1.35L5.41 20z\"/>\n",
              "  </svg>\n",
              "      </button>\n",
              "      \n",
              "  <style>\n",
              "    .colab-df-container {\n",
              "      display:flex;\n",
              "      flex-wrap:wrap;\n",
              "      gap: 12px;\n",
              "    }\n",
              "\n",
              "    .colab-df-convert {\n",
              "      background-color: #E8F0FE;\n",
              "      border: none;\n",
              "      border-radius: 50%;\n",
              "      cursor: pointer;\n",
              "      display: none;\n",
              "      fill: #1967D2;\n",
              "      height: 32px;\n",
              "      padding: 0 0 0 0;\n",
              "      width: 32px;\n",
              "    }\n",
              "\n",
              "    .colab-df-convert:hover {\n",
              "      background-color: #E2EBFA;\n",
              "      box-shadow: 0px 1px 2px rgba(60, 64, 67, 0.3), 0px 1px 3px 1px rgba(60, 64, 67, 0.15);\n",
              "      fill: #174EA6;\n",
              "    }\n",
              "\n",
              "    [theme=dark] .colab-df-convert {\n",
              "      background-color: #3B4455;\n",
              "      fill: #D2E3FC;\n",
              "    }\n",
              "\n",
              "    [theme=dark] .colab-df-convert:hover {\n",
              "      background-color: #434B5C;\n",
              "      box-shadow: 0px 1px 3px 1px rgba(0, 0, 0, 0.15);\n",
              "      filter: drop-shadow(0px 1px 2px rgba(0, 0, 0, 0.3));\n",
              "      fill: #FFFFFF;\n",
              "    }\n",
              "  </style>\n",
              "\n",
              "      <script>\n",
              "        const buttonEl =\n",
              "          document.querySelector('#df-2d0fef03-6afc-4be0-afa1-4c43a7423dff button.colab-df-convert');\n",
              "        buttonEl.style.display =\n",
              "          google.colab.kernel.accessAllowed ? 'block' : 'none';\n",
              "\n",
              "        async function convertToInteractive(key) {\n",
              "          const element = document.querySelector('#df-2d0fef03-6afc-4be0-afa1-4c43a7423dff');\n",
              "          const dataTable =\n",
              "            await google.colab.kernel.invokeFunction('convertToInteractive',\n",
              "                                                     [key], {});\n",
              "          if (!dataTable) return;\n",
              "\n",
              "          const docLinkHtml = 'Like what you see? Visit the ' +\n",
              "            '<a target=\"_blank\" href=https://colab.research.google.com/notebooks/data_table.ipynb>data table notebook</a>'\n",
              "            + ' to learn more about interactive tables.';\n",
              "          element.innerHTML = '';\n",
              "          dataTable['output_type'] = 'display_data';\n",
              "          await google.colab.output.renderOutput(dataTable, element);\n",
              "          const docLink = document.createElement('div');\n",
              "          docLink.innerHTML = docLinkHtml;\n",
              "          element.appendChild(docLink);\n",
              "        }\n",
              "      </script>\n",
              "    </div>\n",
              "  </div>\n",
              "  "
            ]
          },
          "metadata": {},
          "execution_count": 202
        }
      ]
    },
    {
      "cell_type": "markdown",
      "source": [
        "## Transformaciones"
      ],
      "metadata": {
        "id": "PDI1o1hU_f-W"
      }
    },
    {
      "cell_type": "code",
      "source": [
        "ln_var = list(df.describe().columns)[1:]\n",
        "for l in ln_var:\n",
        "  var = 'ln_' + l\n",
        "  df[var] = df[l].apply(lambda x: np.log(x+1) if x == 0 else np.log(x))\n",
        "df.head()"
      ],
      "metadata": {
        "id": "GLBc8bpeXRxD",
        "outputId": "76053979-e791-4a10-f6c1-d0370a5e9078",
        "colab": {
          "base_uri": "https://localhost:8080/",
          "height": 270
        }
      },
      "execution_count": 203,
      "outputs": [
        {
          "output_type": "execute_result",
          "data": {
            "text/plain": [
              "       ID  AgnosDirec  AgnosEmpleo      DeudaExt     DeudaInt  Edad  \\\n",
              "0  100001         4.0          2.0   9561.984843  7660.036317  40.0   \n",
              "1  100002        28.0         25.0  11985.886924  6872.030508  49.0   \n",
              "2  100003         2.0          3.0   1028.356328  1075.598877  38.0   \n",
              "3  100004        11.0         14.0  10974.303210  2377.430575  43.0   \n",
              "4  100005         3.0          1.0    842.807194  1142.827425  33.0   \n",
              "\n",
              "         Ingreso       Ingreso2 Nacionalidad NivelEdu VarObj  DeudaIng  \\\n",
              "0   64117.447797   44473.097916            N   SupInc      S  0.268601   \n",
              "1  124062.085998   84958.101814            N      Med      N  0.152004   \n",
              "2   32010.884862   27638.818281            N   SupCom      N  0.065726   \n",
              "3  172337.436327  125056.572446            N      Bas      N  0.077474   \n",
              "4   25937.760762   23755.321327            N   SupInc      S  0.076554   \n",
              "\n",
              "   ln_AgnosDirec  ln_AgnosEmpleo  ln_DeudaExt  ln_DeudaInt   ln_Edad  \\\n",
              "0       1.386294        0.693147     9.165551     8.943772  3.688879   \n",
              "1       3.332205        3.218876     9.391485     8.835215  3.891820   \n",
              "2       0.693147        1.098612     6.935717     6.980633  3.637586   \n",
              "3       2.397895        2.639057     9.303312     7.773776  3.761200   \n",
              "4       1.098612        0.000000     6.736738     7.041261  3.496508   \n",
              "\n",
              "   ln_Ingreso  ln_Ingreso2  ln_DeudaIng  \n",
              "0   11.068472    10.702640    -1.314528  \n",
              "1   11.728537    11.349913    -1.883849  \n",
              "2   10.373831    10.226977    -2.722257  \n",
              "3   12.057210    11.736521    -2.557808  \n",
              "4   10.163455    10.075562    -2.569761  "
            ],
            "text/html": [
              "\n",
              "  <div id=\"df-cf2dfdf2-d76a-49ea-9e8e-8160c73eebaa\">\n",
              "    <div class=\"colab-df-container\">\n",
              "      <div>\n",
              "<style scoped>\n",
              "    .dataframe tbody tr th:only-of-type {\n",
              "        vertical-align: middle;\n",
              "    }\n",
              "\n",
              "    .dataframe tbody tr th {\n",
              "        vertical-align: top;\n",
              "    }\n",
              "\n",
              "    .dataframe thead th {\n",
              "        text-align: right;\n",
              "    }\n",
              "</style>\n",
              "<table border=\"1\" class=\"dataframe\">\n",
              "  <thead>\n",
              "    <tr style=\"text-align: right;\">\n",
              "      <th></th>\n",
              "      <th>ID</th>\n",
              "      <th>AgnosDirec</th>\n",
              "      <th>AgnosEmpleo</th>\n",
              "      <th>DeudaExt</th>\n",
              "      <th>DeudaInt</th>\n",
              "      <th>Edad</th>\n",
              "      <th>Ingreso</th>\n",
              "      <th>Ingreso2</th>\n",
              "      <th>Nacionalidad</th>\n",
              "      <th>NivelEdu</th>\n",
              "      <th>VarObj</th>\n",
              "      <th>DeudaIng</th>\n",
              "      <th>ln_AgnosDirec</th>\n",
              "      <th>ln_AgnosEmpleo</th>\n",
              "      <th>ln_DeudaExt</th>\n",
              "      <th>ln_DeudaInt</th>\n",
              "      <th>ln_Edad</th>\n",
              "      <th>ln_Ingreso</th>\n",
              "      <th>ln_Ingreso2</th>\n",
              "      <th>ln_DeudaIng</th>\n",
              "    </tr>\n",
              "  </thead>\n",
              "  <tbody>\n",
              "    <tr>\n",
              "      <th>0</th>\n",
              "      <td>100001</td>\n",
              "      <td>4.0</td>\n",
              "      <td>2.0</td>\n",
              "      <td>9561.984843</td>\n",
              "      <td>7660.036317</td>\n",
              "      <td>40.0</td>\n",
              "      <td>64117.447797</td>\n",
              "      <td>44473.097916</td>\n",
              "      <td>N</td>\n",
              "      <td>SupInc</td>\n",
              "      <td>S</td>\n",
              "      <td>0.268601</td>\n",
              "      <td>1.386294</td>\n",
              "      <td>0.693147</td>\n",
              "      <td>9.165551</td>\n",
              "      <td>8.943772</td>\n",
              "      <td>3.688879</td>\n",
              "      <td>11.068472</td>\n",
              "      <td>10.702640</td>\n",
              "      <td>-1.314528</td>\n",
              "    </tr>\n",
              "    <tr>\n",
              "      <th>1</th>\n",
              "      <td>100002</td>\n",
              "      <td>28.0</td>\n",
              "      <td>25.0</td>\n",
              "      <td>11985.886924</td>\n",
              "      <td>6872.030508</td>\n",
              "      <td>49.0</td>\n",
              "      <td>124062.085998</td>\n",
              "      <td>84958.101814</td>\n",
              "      <td>N</td>\n",
              "      <td>Med</td>\n",
              "      <td>N</td>\n",
              "      <td>0.152004</td>\n",
              "      <td>3.332205</td>\n",
              "      <td>3.218876</td>\n",
              "      <td>9.391485</td>\n",
              "      <td>8.835215</td>\n",
              "      <td>3.891820</td>\n",
              "      <td>11.728537</td>\n",
              "      <td>11.349913</td>\n",
              "      <td>-1.883849</td>\n",
              "    </tr>\n",
              "    <tr>\n",
              "      <th>2</th>\n",
              "      <td>100003</td>\n",
              "      <td>2.0</td>\n",
              "      <td>3.0</td>\n",
              "      <td>1028.356328</td>\n",
              "      <td>1075.598877</td>\n",
              "      <td>38.0</td>\n",
              "      <td>32010.884862</td>\n",
              "      <td>27638.818281</td>\n",
              "      <td>N</td>\n",
              "      <td>SupCom</td>\n",
              "      <td>N</td>\n",
              "      <td>0.065726</td>\n",
              "      <td>0.693147</td>\n",
              "      <td>1.098612</td>\n",
              "      <td>6.935717</td>\n",
              "      <td>6.980633</td>\n",
              "      <td>3.637586</td>\n",
              "      <td>10.373831</td>\n",
              "      <td>10.226977</td>\n",
              "      <td>-2.722257</td>\n",
              "    </tr>\n",
              "    <tr>\n",
              "      <th>3</th>\n",
              "      <td>100004</td>\n",
              "      <td>11.0</td>\n",
              "      <td>14.0</td>\n",
              "      <td>10974.303210</td>\n",
              "      <td>2377.430575</td>\n",
              "      <td>43.0</td>\n",
              "      <td>172337.436327</td>\n",
              "      <td>125056.572446</td>\n",
              "      <td>N</td>\n",
              "      <td>Bas</td>\n",
              "      <td>N</td>\n",
              "      <td>0.077474</td>\n",
              "      <td>2.397895</td>\n",
              "      <td>2.639057</td>\n",
              "      <td>9.303312</td>\n",
              "      <td>7.773776</td>\n",
              "      <td>3.761200</td>\n",
              "      <td>12.057210</td>\n",
              "      <td>11.736521</td>\n",
              "      <td>-2.557808</td>\n",
              "    </tr>\n",
              "    <tr>\n",
              "      <th>4</th>\n",
              "      <td>100005</td>\n",
              "      <td>3.0</td>\n",
              "      <td>1.0</td>\n",
              "      <td>842.807194</td>\n",
              "      <td>1142.827425</td>\n",
              "      <td>33.0</td>\n",
              "      <td>25937.760762</td>\n",
              "      <td>23755.321327</td>\n",
              "      <td>N</td>\n",
              "      <td>SupInc</td>\n",
              "      <td>S</td>\n",
              "      <td>0.076554</td>\n",
              "      <td>1.098612</td>\n",
              "      <td>0.000000</td>\n",
              "      <td>6.736738</td>\n",
              "      <td>7.041261</td>\n",
              "      <td>3.496508</td>\n",
              "      <td>10.163455</td>\n",
              "      <td>10.075562</td>\n",
              "      <td>-2.569761</td>\n",
              "    </tr>\n",
              "  </tbody>\n",
              "</table>\n",
              "</div>\n",
              "      <button class=\"colab-df-convert\" onclick=\"convertToInteractive('df-cf2dfdf2-d76a-49ea-9e8e-8160c73eebaa')\"\n",
              "              title=\"Convert this dataframe to an interactive table.\"\n",
              "              style=\"display:none;\">\n",
              "        \n",
              "  <svg xmlns=\"http://www.w3.org/2000/svg\" height=\"24px\"viewBox=\"0 0 24 24\"\n",
              "       width=\"24px\">\n",
              "    <path d=\"M0 0h24v24H0V0z\" fill=\"none\"/>\n",
              "    <path d=\"M18.56 5.44l.94 2.06.94-2.06 2.06-.94-2.06-.94-.94-2.06-.94 2.06-2.06.94zm-11 1L8.5 8.5l.94-2.06 2.06-.94-2.06-.94L8.5 2.5l-.94 2.06-2.06.94zm10 10l.94 2.06.94-2.06 2.06-.94-2.06-.94-.94-2.06-.94 2.06-2.06.94z\"/><path d=\"M17.41 7.96l-1.37-1.37c-.4-.4-.92-.59-1.43-.59-.52 0-1.04.2-1.43.59L10.3 9.45l-7.72 7.72c-.78.78-.78 2.05 0 2.83L4 21.41c.39.39.9.59 1.41.59.51 0 1.02-.2 1.41-.59l7.78-7.78 2.81-2.81c.8-.78.8-2.07 0-2.86zM5.41 20L4 18.59l7.72-7.72 1.47 1.35L5.41 20z\"/>\n",
              "  </svg>\n",
              "      </button>\n",
              "      \n",
              "  <style>\n",
              "    .colab-df-container {\n",
              "      display:flex;\n",
              "      flex-wrap:wrap;\n",
              "      gap: 12px;\n",
              "    }\n",
              "\n",
              "    .colab-df-convert {\n",
              "      background-color: #E8F0FE;\n",
              "      border: none;\n",
              "      border-radius: 50%;\n",
              "      cursor: pointer;\n",
              "      display: none;\n",
              "      fill: #1967D2;\n",
              "      height: 32px;\n",
              "      padding: 0 0 0 0;\n",
              "      width: 32px;\n",
              "    }\n",
              "\n",
              "    .colab-df-convert:hover {\n",
              "      background-color: #E2EBFA;\n",
              "      box-shadow: 0px 1px 2px rgba(60, 64, 67, 0.3), 0px 1px 3px 1px rgba(60, 64, 67, 0.15);\n",
              "      fill: #174EA6;\n",
              "    }\n",
              "\n",
              "    [theme=dark] .colab-df-convert {\n",
              "      background-color: #3B4455;\n",
              "      fill: #D2E3FC;\n",
              "    }\n",
              "\n",
              "    [theme=dark] .colab-df-convert:hover {\n",
              "      background-color: #434B5C;\n",
              "      box-shadow: 0px 1px 3px 1px rgba(0, 0, 0, 0.15);\n",
              "      filter: drop-shadow(0px 1px 2px rgba(0, 0, 0, 0.3));\n",
              "      fill: #FFFFFF;\n",
              "    }\n",
              "  </style>\n",
              "\n",
              "      <script>\n",
              "        const buttonEl =\n",
              "          document.querySelector('#df-cf2dfdf2-d76a-49ea-9e8e-8160c73eebaa button.colab-df-convert');\n",
              "        buttonEl.style.display =\n",
              "          google.colab.kernel.accessAllowed ? 'block' : 'none';\n",
              "\n",
              "        async function convertToInteractive(key) {\n",
              "          const element = document.querySelector('#df-cf2dfdf2-d76a-49ea-9e8e-8160c73eebaa');\n",
              "          const dataTable =\n",
              "            await google.colab.kernel.invokeFunction('convertToInteractive',\n",
              "                                                     [key], {});\n",
              "          if (!dataTable) return;\n",
              "\n",
              "          const docLinkHtml = 'Like what you see? Visit the ' +\n",
              "            '<a target=\"_blank\" href=https://colab.research.google.com/notebooks/data_table.ipynb>data table notebook</a>'\n",
              "            + ' to learn more about interactive tables.';\n",
              "          element.innerHTML = '';\n",
              "          dataTable['output_type'] = 'display_data';\n",
              "          await google.colab.output.renderOutput(dataTable, element);\n",
              "          const docLink = document.createElement('div');\n",
              "          docLink.innerHTML = docLinkHtml;\n",
              "          element.appendChild(docLink);\n",
              "        }\n",
              "      </script>\n",
              "    </div>\n",
              "  </div>\n",
              "  "
            ]
          },
          "metadata": {},
          "execution_count": 203
        }
      ]
    },
    {
      "cell_type": "code",
      "source": [
        "df = pd.get_dummies(df,columns=['NivelEdu','VarObj'],drop_first=True)\n",
        "df.head()"
      ],
      "metadata": {
        "id": "oz_4Au7rz7Fr",
        "outputId": "c04150df-40b1-48cc-e6c9-391a7f58b7fc",
        "colab": {
          "base_uri": "https://localhost:8080/",
          "height": 299
        }
      },
      "execution_count": 204,
      "outputs": [
        {
          "output_type": "execute_result",
          "data": {
            "text/plain": [
              "       ID  AgnosDirec  AgnosEmpleo      DeudaExt     DeudaInt  Edad  \\\n",
              "0  100001         4.0          2.0   9561.984843  7660.036317  40.0   \n",
              "1  100002        28.0         25.0  11985.886924  6872.030508  49.0   \n",
              "2  100003         2.0          3.0   1028.356328  1075.598877  38.0   \n",
              "3  100004        11.0         14.0  10974.303210  2377.430575  43.0   \n",
              "4  100005         3.0          1.0    842.807194  1142.827425  33.0   \n",
              "\n",
              "         Ingreso       Ingreso2 Nacionalidad  DeudaIng  ...  ln_DeudaInt  \\\n",
              "0   64117.447797   44473.097916            N  0.268601  ...     8.943772   \n",
              "1  124062.085998   84958.101814            N  0.152004  ...     8.835215   \n",
              "2   32010.884862   27638.818281            N  0.065726  ...     6.980633   \n",
              "3  172337.436327  125056.572446            N  0.077474  ...     7.773776   \n",
              "4   25937.760762   23755.321327            N  0.076554  ...     7.041261   \n",
              "\n",
              "    ln_Edad  ln_Ingreso  ln_Ingreso2  ln_DeudaIng  NivelEdu_Med  \\\n",
              "0  3.688879   11.068472    10.702640    -1.314528             0   \n",
              "1  3.891820   11.728537    11.349913    -1.883849             1   \n",
              "2  3.637586   10.373831    10.226977    -2.722257             0   \n",
              "3  3.761200   12.057210    11.736521    -2.557808             0   \n",
              "4  3.496508   10.163455    10.075562    -2.569761             0   \n",
              "\n",
              "   NivelEdu_Posg  NivelEdu_SupCom  NivelEdu_SupInc  VarObj_S  \n",
              "0              0                0                1         1  \n",
              "1              0                0                0         0  \n",
              "2              0                1                0         0  \n",
              "3              0                0                0         0  \n",
              "4              0                0                1         1  \n",
              "\n",
              "[5 rows x 23 columns]"
            ],
            "text/html": [
              "\n",
              "  <div id=\"df-d2a1ee7d-17f0-4b1b-ad10-42b4a884bedb\">\n",
              "    <div class=\"colab-df-container\">\n",
              "      <div>\n",
              "<style scoped>\n",
              "    .dataframe tbody tr th:only-of-type {\n",
              "        vertical-align: middle;\n",
              "    }\n",
              "\n",
              "    .dataframe tbody tr th {\n",
              "        vertical-align: top;\n",
              "    }\n",
              "\n",
              "    .dataframe thead th {\n",
              "        text-align: right;\n",
              "    }\n",
              "</style>\n",
              "<table border=\"1\" class=\"dataframe\">\n",
              "  <thead>\n",
              "    <tr style=\"text-align: right;\">\n",
              "      <th></th>\n",
              "      <th>ID</th>\n",
              "      <th>AgnosDirec</th>\n",
              "      <th>AgnosEmpleo</th>\n",
              "      <th>DeudaExt</th>\n",
              "      <th>DeudaInt</th>\n",
              "      <th>Edad</th>\n",
              "      <th>Ingreso</th>\n",
              "      <th>Ingreso2</th>\n",
              "      <th>Nacionalidad</th>\n",
              "      <th>DeudaIng</th>\n",
              "      <th>...</th>\n",
              "      <th>ln_DeudaInt</th>\n",
              "      <th>ln_Edad</th>\n",
              "      <th>ln_Ingreso</th>\n",
              "      <th>ln_Ingreso2</th>\n",
              "      <th>ln_DeudaIng</th>\n",
              "      <th>NivelEdu_Med</th>\n",
              "      <th>NivelEdu_Posg</th>\n",
              "      <th>NivelEdu_SupCom</th>\n",
              "      <th>NivelEdu_SupInc</th>\n",
              "      <th>VarObj_S</th>\n",
              "    </tr>\n",
              "  </thead>\n",
              "  <tbody>\n",
              "    <tr>\n",
              "      <th>0</th>\n",
              "      <td>100001</td>\n",
              "      <td>4.0</td>\n",
              "      <td>2.0</td>\n",
              "      <td>9561.984843</td>\n",
              "      <td>7660.036317</td>\n",
              "      <td>40.0</td>\n",
              "      <td>64117.447797</td>\n",
              "      <td>44473.097916</td>\n",
              "      <td>N</td>\n",
              "      <td>0.268601</td>\n",
              "      <td>...</td>\n",
              "      <td>8.943772</td>\n",
              "      <td>3.688879</td>\n",
              "      <td>11.068472</td>\n",
              "      <td>10.702640</td>\n",
              "      <td>-1.314528</td>\n",
              "      <td>0</td>\n",
              "      <td>0</td>\n",
              "      <td>0</td>\n",
              "      <td>1</td>\n",
              "      <td>1</td>\n",
              "    </tr>\n",
              "    <tr>\n",
              "      <th>1</th>\n",
              "      <td>100002</td>\n",
              "      <td>28.0</td>\n",
              "      <td>25.0</td>\n",
              "      <td>11985.886924</td>\n",
              "      <td>6872.030508</td>\n",
              "      <td>49.0</td>\n",
              "      <td>124062.085998</td>\n",
              "      <td>84958.101814</td>\n",
              "      <td>N</td>\n",
              "      <td>0.152004</td>\n",
              "      <td>...</td>\n",
              "      <td>8.835215</td>\n",
              "      <td>3.891820</td>\n",
              "      <td>11.728537</td>\n",
              "      <td>11.349913</td>\n",
              "      <td>-1.883849</td>\n",
              "      <td>1</td>\n",
              "      <td>0</td>\n",
              "      <td>0</td>\n",
              "      <td>0</td>\n",
              "      <td>0</td>\n",
              "    </tr>\n",
              "    <tr>\n",
              "      <th>2</th>\n",
              "      <td>100003</td>\n",
              "      <td>2.0</td>\n",
              "      <td>3.0</td>\n",
              "      <td>1028.356328</td>\n",
              "      <td>1075.598877</td>\n",
              "      <td>38.0</td>\n",
              "      <td>32010.884862</td>\n",
              "      <td>27638.818281</td>\n",
              "      <td>N</td>\n",
              "      <td>0.065726</td>\n",
              "      <td>...</td>\n",
              "      <td>6.980633</td>\n",
              "      <td>3.637586</td>\n",
              "      <td>10.373831</td>\n",
              "      <td>10.226977</td>\n",
              "      <td>-2.722257</td>\n",
              "      <td>0</td>\n",
              "      <td>0</td>\n",
              "      <td>1</td>\n",
              "      <td>0</td>\n",
              "      <td>0</td>\n",
              "    </tr>\n",
              "    <tr>\n",
              "      <th>3</th>\n",
              "      <td>100004</td>\n",
              "      <td>11.0</td>\n",
              "      <td>14.0</td>\n",
              "      <td>10974.303210</td>\n",
              "      <td>2377.430575</td>\n",
              "      <td>43.0</td>\n",
              "      <td>172337.436327</td>\n",
              "      <td>125056.572446</td>\n",
              "      <td>N</td>\n",
              "      <td>0.077474</td>\n",
              "      <td>...</td>\n",
              "      <td>7.773776</td>\n",
              "      <td>3.761200</td>\n",
              "      <td>12.057210</td>\n",
              "      <td>11.736521</td>\n",
              "      <td>-2.557808</td>\n",
              "      <td>0</td>\n",
              "      <td>0</td>\n",
              "      <td>0</td>\n",
              "      <td>0</td>\n",
              "      <td>0</td>\n",
              "    </tr>\n",
              "    <tr>\n",
              "      <th>4</th>\n",
              "      <td>100005</td>\n",
              "      <td>3.0</td>\n",
              "      <td>1.0</td>\n",
              "      <td>842.807194</td>\n",
              "      <td>1142.827425</td>\n",
              "      <td>33.0</td>\n",
              "      <td>25937.760762</td>\n",
              "      <td>23755.321327</td>\n",
              "      <td>N</td>\n",
              "      <td>0.076554</td>\n",
              "      <td>...</td>\n",
              "      <td>7.041261</td>\n",
              "      <td>3.496508</td>\n",
              "      <td>10.163455</td>\n",
              "      <td>10.075562</td>\n",
              "      <td>-2.569761</td>\n",
              "      <td>0</td>\n",
              "      <td>0</td>\n",
              "      <td>0</td>\n",
              "      <td>1</td>\n",
              "      <td>1</td>\n",
              "    </tr>\n",
              "  </tbody>\n",
              "</table>\n",
              "<p>5 rows × 23 columns</p>\n",
              "</div>\n",
              "      <button class=\"colab-df-convert\" onclick=\"convertToInteractive('df-d2a1ee7d-17f0-4b1b-ad10-42b4a884bedb')\"\n",
              "              title=\"Convert this dataframe to an interactive table.\"\n",
              "              style=\"display:none;\">\n",
              "        \n",
              "  <svg xmlns=\"http://www.w3.org/2000/svg\" height=\"24px\"viewBox=\"0 0 24 24\"\n",
              "       width=\"24px\">\n",
              "    <path d=\"M0 0h24v24H0V0z\" fill=\"none\"/>\n",
              "    <path d=\"M18.56 5.44l.94 2.06.94-2.06 2.06-.94-2.06-.94-.94-2.06-.94 2.06-2.06.94zm-11 1L8.5 8.5l.94-2.06 2.06-.94-2.06-.94L8.5 2.5l-.94 2.06-2.06.94zm10 10l.94 2.06.94-2.06 2.06-.94-2.06-.94-.94-2.06-.94 2.06-2.06.94z\"/><path d=\"M17.41 7.96l-1.37-1.37c-.4-.4-.92-.59-1.43-.59-.52 0-1.04.2-1.43.59L10.3 9.45l-7.72 7.72c-.78.78-.78 2.05 0 2.83L4 21.41c.39.39.9.59 1.41.59.51 0 1.02-.2 1.41-.59l7.78-7.78 2.81-2.81c.8-.78.8-2.07 0-2.86zM5.41 20L4 18.59l7.72-7.72 1.47 1.35L5.41 20z\"/>\n",
              "  </svg>\n",
              "      </button>\n",
              "      \n",
              "  <style>\n",
              "    .colab-df-container {\n",
              "      display:flex;\n",
              "      flex-wrap:wrap;\n",
              "      gap: 12px;\n",
              "    }\n",
              "\n",
              "    .colab-df-convert {\n",
              "      background-color: #E8F0FE;\n",
              "      border: none;\n",
              "      border-radius: 50%;\n",
              "      cursor: pointer;\n",
              "      display: none;\n",
              "      fill: #1967D2;\n",
              "      height: 32px;\n",
              "      padding: 0 0 0 0;\n",
              "      width: 32px;\n",
              "    }\n",
              "\n",
              "    .colab-df-convert:hover {\n",
              "      background-color: #E2EBFA;\n",
              "      box-shadow: 0px 1px 2px rgba(60, 64, 67, 0.3), 0px 1px 3px 1px rgba(60, 64, 67, 0.15);\n",
              "      fill: #174EA6;\n",
              "    }\n",
              "\n",
              "    [theme=dark] .colab-df-convert {\n",
              "      background-color: #3B4455;\n",
              "      fill: #D2E3FC;\n",
              "    }\n",
              "\n",
              "    [theme=dark] .colab-df-convert:hover {\n",
              "      background-color: #434B5C;\n",
              "      box-shadow: 0px 1px 3px 1px rgba(0, 0, 0, 0.15);\n",
              "      filter: drop-shadow(0px 1px 2px rgba(0, 0, 0, 0.3));\n",
              "      fill: #FFFFFF;\n",
              "    }\n",
              "  </style>\n",
              "\n",
              "      <script>\n",
              "        const buttonEl =\n",
              "          document.querySelector('#df-d2a1ee7d-17f0-4b1b-ad10-42b4a884bedb button.colab-df-convert');\n",
              "        buttonEl.style.display =\n",
              "          google.colab.kernel.accessAllowed ? 'block' : 'none';\n",
              "\n",
              "        async function convertToInteractive(key) {\n",
              "          const element = document.querySelector('#df-d2a1ee7d-17f0-4b1b-ad10-42b4a884bedb');\n",
              "          const dataTable =\n",
              "            await google.colab.kernel.invokeFunction('convertToInteractive',\n",
              "                                                     [key], {});\n",
              "          if (!dataTable) return;\n",
              "\n",
              "          const docLinkHtml = 'Like what you see? Visit the ' +\n",
              "            '<a target=\"_blank\" href=https://colab.research.google.com/notebooks/data_table.ipynb>data table notebook</a>'\n",
              "            + ' to learn more about interactive tables.';\n",
              "          element.innerHTML = '';\n",
              "          dataTable['output_type'] = 'display_data';\n",
              "          await google.colab.output.renderOutput(dataTable, element);\n",
              "          const docLink = document.createElement('div');\n",
              "          docLink.innerHTML = docLinkHtml;\n",
              "          element.appendChild(docLink);\n",
              "        }\n",
              "      </script>\n",
              "    </div>\n",
              "  </div>\n",
              "  "
            ]
          },
          "metadata": {},
          "execution_count": 204
        }
      ]
    },
    {
      "cell_type": "code",
      "source": [
        "graf = df.copy()\n",
        "graf = graf.iloc[:,10:18]\n",
        "\n",
        "f = plt.figure(figsize=(15,15))\n",
        "for i in range(8):\n",
        "    f.add_subplot(4, 3, i+1)\n",
        "    sns.distplot(graf.iloc[:,i])\n",
        "plt.show()"
      ],
      "metadata": {
        "id": "BRHurWSsZbAY",
        "outputId": "746ae754-9b64-4429-b217-266bce7fa8ae",
        "colab": {
          "base_uri": "https://localhost:8080/",
          "height": 670
        }
      },
      "execution_count": 205,
      "outputs": [
        {
          "output_type": "display_data",
          "data": {
            "text/plain": [
              "<Figure size 1080x1080 with 8 Axes>"
            ],
            "image/png": "[encoded data removed]"
          },
          "metadata": {}
        }
      ]
    },
    {
      "cell_type": "code",
      "source": [
        "df.iloc[:,1:18].describe().T.round(3)"
      ],
      "metadata": {
        "id": "hgGsOwPV3Zwv",
        "outputId": "da944576-37fd-4388-c2c5-c4b332e02fec",
        "colab": {
          "base_uri": "https://localhost:8080/",
          "height": 551
        }
      },
      "execution_count": 206,
      "outputs": [
        {
          "output_type": "execute_result",
          "data": {
            "text/plain": [
              "                 count       mean        std       min        25%        50%  \\\n",
              "AgnosDirec      3000.0      7.088      6.961     0.000      2.000      5.000   \n",
              "AgnosEmpleo     3000.0      7.147      6.651     0.000      2.000      5.000   \n",
              "DeudaExt        3000.0   4531.013   7083.594    21.551   1110.371   2278.910   \n",
              "DeudaInt        3000.0   2275.677   5406.183     8.304    417.285    960.163   \n",
              "Edad            3000.0     37.020      9.787    18.000     29.000     37.000   \n",
              "Ingreso         3000.0  62576.498  49358.117  3141.067  30284.272  49572.952   \n",
              "Ingreso2        3000.0  52159.149  42238.037     0.000  25109.557  40632.271   \n",
              "DeudaIng        3000.0      0.097      0.085     0.008      0.042      0.074   \n",
              "ln_AgnosDirec   3000.0      1.525      0.978     0.000      0.693      1.609   \n",
              "ln_AgnosEmpleo  3000.0      1.543      0.983     0.000      0.693      1.609   \n",
              "ln_DeudaExt     3000.0      7.767      1.142     3.070      7.012      7.731   \n",
              "ln_DeudaInt     3000.0      6.881      1.281     2.117      6.034      6.867   \n",
              "ln_Edad         3000.0      3.576      0.271     2.890      3.367      3.611   \n",
              "ln_Ingreso      3000.0     10.804      0.694     8.052     10.318     10.811   \n",
              "ln_Ingreso2     3000.0     10.608      0.754     0.000     10.131     10.612   \n",
              "ln_DeudaIng     3000.0     -2.628      0.776    -4.870     -3.159     -2.603   \n",
              "\n",
              "                      75%         max  \n",
              "AgnosDirec         10.000      61.000  \n",
              "AgnosEmpleo        10.000      47.000  \n",
              "DeudaExt         5089.922  123939.236  \n",
              "DeudaInt         2317.458  190648.853  \n",
              "Edad               44.000      71.000  \n",
              "Ingreso         78817.515  536488.400  \n",
              "Ingreso2        66206.198  513618.589  \n",
              "DeudaIng            0.123       1.088  \n",
              "ln_AgnosDirec       2.303       4.111  \n",
              "ln_AgnosEmpleo      2.303       3.850  \n",
              "ln_DeudaExt         8.535      11.728  \n",
              "ln_DeudaInt         7.748      12.158  \n",
              "ln_Edad             3.784       4.263  \n",
              "ln_Ingreso         11.275      13.193  \n",
              "ln_Ingreso2        11.101      13.149  \n",
              "ln_DeudaIng        -2.097       0.084  "
            ],
            "text/html": [
              "\n",
              "  <div id=\"df-b5d5f41c-d887-4296-808a-4cbd5568bdea\">\n",
              "    <div class=\"colab-df-container\">\n",
              "      <div>\n",
              "<style scoped>\n",
              "    .dataframe tbody tr th:only-of-type {\n",
              "        vertical-align: middle;\n",
              "    }\n",
              "\n",
              "    .dataframe tbody tr th {\n",
              "        vertical-align: top;\n",
              "    }\n",
              "\n",
              "    .dataframe thead th {\n",
              "        text-align: right;\n",
              "    }\n",
              "</style>\n",
              "<table border=\"1\" class=\"dataframe\">\n",
              "  <thead>\n",
              "    <tr style=\"text-align: right;\">\n",
              "      <th></th>\n",
              "      <th>count</th>\n",
              "      <th>mean</th>\n",
              "      <th>std</th>\n",
              "      <th>min</th>\n",
              "      <th>25%</th>\n",
              "      <th>50%</th>\n",
              "      <th>75%</th>\n",
              "      <th>max</th>\n",
              "    </tr>\n",
              "  </thead>\n",
              "  <tbody>\n",
              "    <tr>\n",
              "      <th>AgnosDirec</th>\n",
              "      <td>3000.0</td>\n",
              "      <td>7.088</td>\n",
              "      <td>6.961</td>\n",
              "      <td>0.000</td>\n",
              "      <td>2.000</td>\n",
              "      <td>5.000</td>\n",
              "      <td>10.000</td>\n",
              "      <td>61.000</td>\n",
              "    </tr>\n",
              "    <tr>\n",
              "      <th>AgnosEmpleo</th>\n",
              "      <td>3000.0</td>\n",
              "      <td>7.147</td>\n",
              "      <td>6.651</td>\n",
              "      <td>0.000</td>\n",
              "      <td>2.000</td>\n",
              "      <td>5.000</td>\n",
              "      <td>10.000</td>\n",
              "      <td>47.000</td>\n",
              "    </tr>\n",
              "    <tr>\n",
              "      <th>DeudaExt</th>\n",
              "      <td>3000.0</td>\n",
              "      <td>4531.013</td>\n",
              "      <td>7083.594</td>\n",
              "      <td>21.551</td>\n",
              "      <td>1110.371</td>\n",
              "      <td>2278.910</td>\n",
              "      <td>5089.922</td>\n",
              "      <td>123939.236</td>\n",
              "    </tr>\n",
              "    <tr>\n",
              "      <th>DeudaInt</th>\n",
              "      <td>3000.0</td>\n",
              "      <td>2275.677</td>\n",
              "      <td>5406.183</td>\n",
              "      <td>8.304</td>\n",
              "      <td>417.285</td>\n",
              "      <td>960.163</td>\n",
              "      <td>2317.458</td>\n",
              "      <td>190648.853</td>\n",
              "    </tr>\n",
              "    <tr>\n",
              "      <th>Edad</th>\n",
              "      <td>3000.0</td>\n",
              "      <td>37.020</td>\n",
              "      <td>9.787</td>\n",
              "      <td>18.000</td>\n",
              "      <td>29.000</td>\n",
              "      <td>37.000</td>\n",
              "      <td>44.000</td>\n",
              "      <td>71.000</td>\n",
              "    </tr>\n",
              "    <tr>\n",
              "      <th>Ingreso</th>\n",
              "      <td>3000.0</td>\n",
              "      <td>62576.498</td>\n",
              "      <td>49358.117</td>\n",
              "      <td>3141.067</td>\n",
              "      <td>30284.272</td>\n",
              "      <td>49572.952</td>\n",
              "      <td>78817.515</td>\n",
              "      <td>536488.400</td>\n",
              "    </tr>\n",
              "    <tr>\n",
              "      <th>Ingreso2</th>\n",
              "      <td>3000.0</td>\n",
              "      <td>52159.149</td>\n",
              "      <td>42238.037</td>\n",
              "      <td>0.000</td>\n",
              "      <td>25109.557</td>\n",
              "      <td>40632.271</td>\n",
              "      <td>66206.198</td>\n",
              "      <td>513618.589</td>\n",
              "    </tr>\n",
              "    <tr>\n",
              "      <th>DeudaIng</th>\n",
              "      <td>3000.0</td>\n",
              "      <td>0.097</td>\n",
              "      <td>0.085</td>\n",
              "      <td>0.008</td>\n",
              "      <td>0.042</td>\n",
              "      <td>0.074</td>\n",
              "      <td>0.123</td>\n",
              "      <td>1.088</td>\n",
              "    </tr>\n",
              "    <tr>\n",
              "      <th>ln_AgnosDirec</th>\n",
              "      <td>3000.0</td>\n",
              "      <td>1.525</td>\n",
              "      <td>0.978</td>\n",
              "      <td>0.000</td>\n",
              "      <td>0.693</td>\n",
              "      <td>1.609</td>\n",
              "      <td>2.303</td>\n",
              "      <td>4.111</td>\n",
              "    </tr>\n",
              "    <tr>\n",
              "      <th>ln_AgnosEmpleo</th>\n",
              "      <td>3000.0</td>\n",
              "      <td>1.543</td>\n",
              "      <td>0.983</td>\n",
              "      <td>0.000</td>\n",
              "      <td>0.693</td>\n",
              "      <td>1.609</td>\n",
              "      <td>2.303</td>\n",
              "      <td>3.850</td>\n",
              "    </tr>\n",
              "    <tr>\n",
              "      <th>ln_DeudaExt</th>\n",
              "      <td>3000.0</td>\n",
              "      <td>7.767</td>\n",
              "      <td>1.142</td>\n",
              "      <td>3.070</td>\n",
              "      <td>7.012</td>\n",
              "      <td>7.731</td>\n",
              "      <td>8.535</td>\n",
              "      <td>11.728</td>\n",
              "    </tr>\n",
              "    <tr>\n",
              "      <th>ln_DeudaInt</th>\n",
              "      <td>3000.0</td>\n",
              "      <td>6.881</td>\n",
              "      <td>1.281</td>\n",
              "      <td>2.117</td>\n",
              "      <td>6.034</td>\n",
              "      <td>6.867</td>\n",
              "      <td>7.748</td>\n",
              "      <td>12.158</td>\n",
              "    </tr>\n",
              "    <tr>\n",
              "      <th>ln_Edad</th>\n",
              "      <td>3000.0</td>\n",
              "      <td>3.576</td>\n",
              "      <td>0.271</td>\n",
              "      <td>2.890</td>\n",
              "      <td>3.367</td>\n",
              "      <td>3.611</td>\n",
              "      <td>3.784</td>\n",
              "      <td>4.263</td>\n",
              "    </tr>\n",
              "    <tr>\n",
              "      <th>ln_Ingreso</th>\n",
              "      <td>3000.0</td>\n",
              "      <td>10.804</td>\n",
              "      <td>0.694</td>\n",
              "      <td>8.052</td>\n",
              "      <td>10.318</td>\n",
              "      <td>10.811</td>\n",
              "      <td>11.275</td>\n",
              "      <td>13.193</td>\n",
              "    </tr>\n",
              "    <tr>\n",
              "      <th>ln_Ingreso2</th>\n",
              "      <td>3000.0</td>\n",
              "      <td>10.608</td>\n",
              "      <td>0.754</td>\n",
              "      <td>0.000</td>\n",
              "      <td>10.131</td>\n",
              "      <td>10.612</td>\n",
              "      <td>11.101</td>\n",
              "      <td>13.149</td>\n",
              "    </tr>\n",
              "    <tr>\n",
              "      <th>ln_DeudaIng</th>\n",
              "      <td>3000.0</td>\n",
              "      <td>-2.628</td>\n",
              "      <td>0.776</td>\n",
              "      <td>-4.870</td>\n",
              "      <td>-3.159</td>\n",
              "      <td>-2.603</td>\n",
              "      <td>-2.097</td>\n",
              "      <td>0.084</td>\n",
              "    </tr>\n",
              "  </tbody>\n",
              "</table>\n",
              "</div>\n",
              "      <button class=\"colab-df-convert\" onclick=\"convertToInteractive('df-b5d5f41c-d887-4296-808a-4cbd5568bdea')\"\n",
              "              title=\"Convert this dataframe to an interactive table.\"\n",
              "              style=\"display:none;\">\n",
              "        \n",
              "  <svg xmlns=\"http://www.w3.org/2000/svg\" height=\"24px\"viewBox=\"0 0 24 24\"\n",
              "       width=\"24px\">\n",
              "    <path d=\"M0 0h24v24H0V0z\" fill=\"none\"/>\n",
              "    <path d=\"M18.56 5.44l.94 2.06.94-2.06 2.06-.94-2.06-.94-.94-2.06-.94 2.06-2.06.94zm-11 1L8.5 8.5l.94-2.06 2.06-.94-2.06-.94L8.5 2.5l-.94 2.06-2.06.94zm10 10l.94 2.06.94-2.06 2.06-.94-2.06-.94-.94-2.06-.94 2.06-2.06.94z\"/><path d=\"M17.41 7.96l-1.37-1.37c-.4-.4-.92-.59-1.43-.59-.52 0-1.04.2-1.43.59L10.3 9.45l-7.72 7.72c-.78.78-.78 2.05 0 2.83L4 21.41c.39.39.9.59 1.41.59.51 0 1.02-.2 1.41-.59l7.78-7.78 2.81-2.81c.8-.78.8-2.07 0-2.86zM5.41 20L4 18.59l7.72-7.72 1.47 1.35L5.41 20z\"/>\n",
              "  </svg>\n",
              "      </button>\n",
              "      \n",
              "  <style>\n",
              "    .colab-df-container {\n",
              "      display:flex;\n",
              "      flex-wrap:wrap;\n",
              "      gap: 12px;\n",
              "    }\n",
              "\n",
              "    .colab-df-convert {\n",
              "      background-color: #E8F0FE;\n",
              "      border: none;\n",
              "      border-radius: 50%;\n",
              "      cursor: pointer;\n",
              "      display: none;\n",
              "      fill: #1967D2;\n",
              "      height: 32px;\n",
              "      padding: 0 0 0 0;\n",
              "      width: 32px;\n",
              "    }\n",
              "\n",
              "    .colab-df-convert:hover {\n",
              "      background-color: #E2EBFA;\n",
              "      box-shadow: 0px 1px 2px rgba(60, 64, 67, 0.3), 0px 1px 3px 1px rgba(60, 64, 67, 0.15);\n",
              "      fill: #174EA6;\n",
              "    }\n",
              "\n",
              "    [theme=dark] .colab-df-convert {\n",
              "      background-color: #3B4455;\n",
              "      fill: #D2E3FC;\n",
              "    }\n",
              "\n",
              "    [theme=dark] .colab-df-convert:hover {\n",
              "      background-color: #434B5C;\n",
              "      box-shadow: 0px 1px 3px 1px rgba(0, 0, 0, 0.15);\n",
              "      filter: drop-shadow(0px 1px 2px rgba(0, 0, 0, 0.3));\n",
              "      fill: #FFFFFF;\n",
              "    }\n",
              "  </style>\n",
              "\n",
              "      <script>\n",
              "        const buttonEl =\n",
              "          document.querySelector('#df-b5d5f41c-d887-4296-808a-4cbd5568bdea button.colab-df-convert');\n",
              "        buttonEl.style.display =\n",
              "          google.colab.kernel.accessAllowed ? 'block' : 'none';\n",
              "\n",
              "        async function convertToInteractive(key) {\n",
              "          const element = document.querySelector('#df-b5d5f41c-d887-4296-808a-4cbd5568bdea');\n",
              "          const dataTable =\n",
              "            await google.colab.kernel.invokeFunction('convertToInteractive',\n",
              "                                                     [key], {});\n",
              "          if (!dataTable) return;\n",
              "\n",
              "          const docLinkHtml = 'Like what you see? Visit the ' +\n",
              "            '<a target=\"_blank\" href=https://colab.research.google.com/notebooks/data_table.ipynb>data table notebook</a>'\n",
              "            + ' to learn more about interactive tables.';\n",
              "          element.innerHTML = '';\n",
              "          dataTable['output_type'] = 'display_data';\n",
              "          await google.colab.output.renderOutput(dataTable, element);\n",
              "          const docLink = document.createElement('div');\n",
              "          docLink.innerHTML = docLinkHtml;\n",
              "          element.appendChild(docLink);\n",
              "        }\n",
              "      </script>\n",
              "    </div>\n",
              "  </div>\n",
              "  "
            ]
          },
          "metadata": {},
          "execution_count": 206
        }
      ]
    },
    {
      "cell_type": "code",
      "source": [
        "df.columns"
      ],
      "metadata": {
        "id": "Xdgg4PIg7JhY",
        "outputId": "992c3b13-53d4-4d74-b39d-07892cae3491",
        "colab": {
          "base_uri": "https://localhost:8080/"
        }
      },
      "execution_count": 207,
      "outputs": [
        {
          "output_type": "execute_result",
          "data": {
            "text/plain": [
              "Index(['ID', 'AgnosDirec', 'AgnosEmpleo', 'DeudaExt', 'DeudaInt', 'Edad',\n",
              "       'Ingreso', 'Ingreso2', 'Nacionalidad', 'DeudaIng', 'ln_AgnosDirec',\n",
              "       'ln_AgnosEmpleo', 'ln_DeudaExt', 'ln_DeudaInt', 'ln_Edad', 'ln_Ingreso',\n",
              "       'ln_Ingreso2', 'ln_DeudaIng', 'NivelEdu_Med', 'NivelEdu_Posg',\n",
              "       'NivelEdu_SupCom', 'NivelEdu_SupInc', 'VarObj_S'],\n",
              "      dtype='object')"
            ]
          },
          "metadata": {},
          "execution_count": 207
        }
      ]
    },
    {
      "cell_type": "code",
      "source": [
        "# ID no aporta información\n",
        "# Nacionalidad no aporta información"
      ],
      "metadata": {
        "id": "yRuiAN8v8Oe5"
      },
      "execution_count": 208,
      "outputs": []
    },
    {
      "cell_type": "code",
      "source": [
        "f = ['AgnosDirec', \n",
        "     'AgnosEmpleo', 'DeudaExt', 'DeudaInt', 'Edad','Ingreso', \n",
        "     'Ingreso2', 'DeudaIng']\n",
        "\n",
        "corr = df[f].corr(method='pearson').abs().round(3)\n",
        "\n",
        "f, ax = plt.subplots(figsize=(26, 11))\n",
        "mask = np.triu(np.ones_like(corr, dtype=bool))\n",
        "\n",
        "sns.heatmap(corr, annot=True, mask = mask, cmap=cmap)"
      ],
      "metadata": {
        "id": "g5v65lQsPLLL",
        "outputId": "8c73a2be-da74-418d-a5b9-22857d14b3fb",
        "colab": {
          "base_uri": "https://localhost:8080/",
          "height": 666
        }
      },
      "execution_count": 209,
      "outputs": [
        {
          "output_type": "execute_result",
          "data": {
            "text/plain": [
              "<matplotlib.axes._subplots.AxesSubplot at 0x7f9be7d18b90>"
            ]
          },
          "metadata": {},
          "execution_count": 209
        },
        {
          "output_type": "display_data",
          "data": {
            "text/plain": [
              "<Figure size 1872x792 with 2 Axes>"
            ],
            "image/png": "[encoded data removed]"
          },
          "metadata": {}
        }
      ]
    },
    {
      "cell_type": "code",
      "source": [
        "f = ['ln_AgnosDirec',\n",
        "       'ln_AgnosEmpleo', 'ln_DeudaExt', 'ln_DeudaInt', 'ln_Edad', 'ln_Ingreso',\n",
        "       'ln_Ingreso2', 'ln_DeudaIng']\n",
        "       \n",
        "corr2 = df[f].corr(method='pearson').abs().round(3)\n",
        "\n",
        "f, ax = plt.subplots(figsize=(26, 11))\n",
        "mask = np.triu(np.ones_like(corr2, dtype=bool))\n",
        "\n",
        "sns.heatmap(corr2, annot=True, mask = mask, cmap=cmap)"
      ],
      "metadata": {
        "id": "36kmRAW_8xvv",
        "outputId": "b91bb4dc-d0c2-44ba-88e4-0d5e239aa89d",
        "colab": {
          "base_uri": "https://localhost:8080/",
          "height": 667
        }
      },
      "execution_count": 210,
      "outputs": [
        {
          "output_type": "execute_result",
          "data": {
            "text/plain": [
              "<matplotlib.axes._subplots.AxesSubplot at 0x7f9be7d9af10>"
            ]
          },
          "metadata": {},
          "execution_count": 210
        },
        {
          "output_type": "display_data",
          "data": {
            "text/plain": [
              "<Figure size 1872x792 with 2 Axes>"
            ],
            "image/png": "[encoded data removed]"
          },
          "metadata": {}
        }
      ]
    },
    {
      "cell_type": "markdown",
      "source": [
        "## Selección de Atributos"
      ],
      "metadata": {
        "id": "RlKExiXeQR5E"
      }
    },
    {
      "cell_type": "markdown",
      "source": [
        "### Random Forest y Feature Importances"
      ],
      "metadata": {
        "id": "yZ7IBnFKBdQL"
      }
    },
    {
      "cell_type": "code",
      "source": [
        "X = df.copy()\n",
        "X = X[['AgnosDirec', 'AgnosEmpleo', 'DeudaExt', 'DeudaInt', 'Edad',\n",
        "       'Ingreso', 'Ingreso2', 'DeudaIng','NivelEdu_Med', 'NivelEdu_Posg',\n",
        "       'NivelEdu_SupCom', 'NivelEdu_SupInc', 'VarObj_S']].sample(1000)\n",
        "y = X['VarObj_S']\n",
        "X = X.drop(columns='VarObj_S')"
      ],
      "metadata": {
        "id": "-uQlHqMjQZ_Q"
      },
      "execution_count": 211,
      "outputs": []
    },
    {
      "cell_type": "code",
      "source": [
        "from sklearn.ensemble import RandomForestClassifier\n",
        "forest = RandomForestClassifier(random_state=12345)\n",
        "forest.fit(X, y)\n",
        "\n",
        "bestfeatures = set()\n",
        "\n",
        "importances = forest.feature_importances_\n",
        "std = np.std([tree.feature_importances_ for tree in forest.estimators_], axis=0)\n",
        "imps = pd.DataFrame.from_dict({\"importances\": importances})\n",
        "imps.index = list(X)\n",
        "imps.sort_values(by=\"importances\").plot.barh(figsize=(5, 5))\n",
        "bestfeatures |= set(imps.sort_values(by=\"importances\").iloc[-10:].index) # add best features"
      ],
      "metadata": {
        "id": "x8aDL3epBE7_",
        "colab": {
          "base_uri": "https://localhost:8080/",
          "height": 322
        },
        "outputId": "8a9f6171-243a-4dc7-d076-236366a0f007"
      },
      "execution_count": 212,
      "outputs": [
        {
          "output_type": "display_data",
          "data": {
            "text/plain": [
              "<Figure size 360x360 with 1 Axes>"
            ],
            "image/png": "[encoded data removed]"
          },
          "metadata": {}
        }
      ]
    },
    {
      "cell_type": "code",
      "source": [
        "# Top 5 variables: DeudaIng, DeudaInt, AgnosEmpleo, Edad, DeudaExt\n",
        "# ingreso > Ingreso2"
      ],
      "metadata": {
        "id": "5M1Q_eBJR4OU"
      },
      "execution_count": null,
      "outputs": []
    },
    {
      "cell_type": "code",
      "source": [
        "X = df.copy()\n",
        "X = X[['ln_AgnosDirec',\n",
        "       'ln_AgnosEmpleo', 'ln_DeudaExt', 'ln_DeudaInt', 'ln_Edad', 'ln_Ingreso',\n",
        "       'ln_Ingreso2', 'ln_DeudaIng', 'NivelEdu_Med', 'NivelEdu_Posg',\n",
        "       'NivelEdu_SupCom', 'NivelEdu_SupInc', 'VarObj_S']].sample(1000)\n",
        "y = X['VarObj_S']\n",
        "X = X.drop(columns='VarObj_S')"
      ],
      "metadata": {
        "id": "o2IMcNfjROtG"
      },
      "execution_count": 213,
      "outputs": []
    },
    {
      "cell_type": "code",
      "source": [
        "from sklearn.ensemble import RandomForestClassifier\n",
        "forest = RandomForestClassifier(random_state=12345)\n",
        "forest.fit(X, y)\n",
        "\n",
        "bestfeatures = set()\n",
        "\n",
        "importances = forest.feature_importances_\n",
        "std = np.std([tree.feature_importances_ for tree in forest.estimators_], axis=0)\n",
        "imps = pd.DataFrame.from_dict({\"importances\": importances})\n",
        "imps.index = list(X)\n",
        "imps.sort_values(by=\"importances\").plot.barh(figsize=(5, 5))\n",
        "bestfeatures |= set(imps.sort_values(by=\"importances\").iloc[-10:].index) # add best features"
      ],
      "metadata": {
        "outputId": "e1aa3950-ff1a-44d3-cc25-80d61ad77148",
        "colab": {
          "base_uri": "https://localhost:8080/",
          "height": 322
        },
        "id": "J_wjPuuVROtG"
      },
      "execution_count": 215,
      "outputs": [
        {
          "output_type": "display_data",
          "data": {
            "text/plain": [
              "<Figure size 360x360 with 1 Axes>"
            ],
            "image/png": "[encoded data removed]"
          },
          "metadata": {}
        }
      ]
    },
    {
      "cell_type": "code",
      "source": [
        "# Top 5 variables: ln_DeudaIng, ln_DeudaInt, ln_Edad, ln_AgnosEmpleo, ln_AgnosDirec\n",
        "# ln_ingreso > ln_Ingreso2"
      ],
      "metadata": {
        "id": "mGTsITcwRS4V"
      },
      "execution_count": 216,
      "outputs": []
    },
    {
      "cell_type": "markdown",
      "source": [
        "### Variables Seleccionadas"
      ],
      "metadata": {
        "id": "5SokMYdQQHKl"
      }
    },
    {
      "cell_type": "code",
      "source": [
        "# se descartan: 'ID','Nacionalidad' por no aportar información\n",
        "# se descartan las variables 'AgnosDirec', 'AgnosEmpleo', 'DeudaExt', 'DeudaInt', 'Edad','Ingreso', 'Ingreso2',  'DeudaIng' y se dejan las variables normalizadas\n",
        "# ln_Ingreso2 se descarta por colinealidad cuasi-perfecta con ln_Ingreso, además de verse con menor feature immportance vs ln_Ingreso\n",
        "# se dejan las variables de NivelEdu, al verse una variación entre niveles educacionales sobre la variable objetivo"
      ],
      "metadata": {
        "id": "ODTlcQSH7j_7"
      },
      "execution_count": 217,
      "outputs": []
    },
    {
      "cell_type": "code",
      "source": [
        "features = ['ln_AgnosDirec','ln_AgnosEmpleo', 'ln_DeudaExt', 'ln_DeudaInt', 'ln_Edad', 'ln_Ingreso','ln_DeudaIng',\n",
        "            'NivelEdu_Med', 'NivelEdu_Posg','NivelEdu_SupCom', 'NivelEdu_SupInc',]\n",
        "X = df[features]\n",
        "y = df['VarObj_S']"
      ],
      "metadata": {
        "id": "-Y4TctRo7Rdq"
      },
      "execution_count": 218,
      "outputs": []
    },
    {
      "cell_type": "code",
      "source": [
        "X.head()"
      ],
      "metadata": {
        "id": "vRhguF127-_B",
        "outputId": "395a415f-26e2-412d-eb8c-18718c1c6b15",
        "colab": {
          "base_uri": "https://localhost:8080/",
          "height": 206
        }
      },
      "execution_count": 219,
      "outputs": [
        {
          "output_type": "execute_result",
          "data": {
            "text/plain": [
              "   ln_AgnosDirec  ln_AgnosEmpleo  ln_DeudaExt  ln_DeudaInt   ln_Edad  \\\n",
              "0       1.386294        0.693147     9.165551     8.943772  3.688879   \n",
              "1       3.332205        3.218876     9.391485     8.835215  3.891820   \n",
              "2       0.693147        1.098612     6.935717     6.980633  3.637586   \n",
              "3       2.397895        2.639057     9.303312     7.773776  3.761200   \n",
              "4       1.098612        0.000000     6.736738     7.041261  3.496508   \n",
              "\n",
              "   ln_Ingreso  ln_DeudaIng  NivelEdu_Med  NivelEdu_Posg  NivelEdu_SupCom  \\\n",
              "0   11.068472    -1.314528             0              0                0   \n",
              "1   11.728537    -1.883849             1              0                0   \n",
              "2   10.373831    -2.722257             0              0                1   \n",
              "3   12.057210    -2.557808             0              0                0   \n",
              "4   10.163455    -2.569761             0              0                0   \n",
              "\n",
              "   NivelEdu_SupInc  \n",
              "0                1  \n",
              "1                0  \n",
              "2                0  \n",
              "3                0  \n",
              "4                1  "
            ],
            "text/html": [
              "\n",
              "  <div id=\"df-363de766-1e89-4394-97c2-e92078cf6fff\">\n",
              "    <div class=\"colab-df-container\">\n",
              "      <div>\n",
              "<style scoped>\n",
              "    .dataframe tbody tr th:only-of-type {\n",
              "        vertical-align: middle;\n",
              "    }\n",
              "\n",
              "    .dataframe tbody tr th {\n",
              "        vertical-align: top;\n",
              "    }\n",
              "\n",
              "    .dataframe thead th {\n",
              "        text-align: right;\n",
              "    }\n",
              "</style>\n",
              "<table border=\"1\" class=\"dataframe\">\n",
              "  <thead>\n",
              "    <tr style=\"text-align: right;\">\n",
              "      <th></th>\n",
              "      <th>ln_AgnosDirec</th>\n",
              "      <th>ln_AgnosEmpleo</th>\n",
              "      <th>ln_DeudaExt</th>\n",
              "      <th>ln_DeudaInt</th>\n",
              "      <th>ln_Edad</th>\n",
              "      <th>ln_Ingreso</th>\n",
              "      <th>ln_DeudaIng</th>\n",
              "      <th>NivelEdu_Med</th>\n",
              "      <th>NivelEdu_Posg</th>\n",
              "      <th>NivelEdu_SupCom</th>\n",
              "      <th>NivelEdu_SupInc</th>\n",
              "    </tr>\n",
              "  </thead>\n",
              "  <tbody>\n",
              "    <tr>\n",
              "      <th>0</th>\n",
              "      <td>1.386294</td>\n",
              "      <td>0.693147</td>\n",
              "      <td>9.165551</td>\n",
              "      <td>8.943772</td>\n",
              "      <td>3.688879</td>\n",
              "      <td>11.068472</td>\n",
              "      <td>-1.314528</td>\n",
              "      <td>0</td>\n",
              "      <td>0</td>\n",
              "      <td>0</td>\n",
              "      <td>1</td>\n",
              "    </tr>\n",
              "    <tr>\n",
              "      <th>1</th>\n",
              "      <td>3.332205</td>\n",
              "      <td>3.218876</td>\n",
              "      <td>9.391485</td>\n",
              "      <td>8.835215</td>\n",
              "      <td>3.891820</td>\n",
              "      <td>11.728537</td>\n",
              "      <td>-1.883849</td>\n",
              "      <td>1</td>\n",
              "      <td>0</td>\n",
              "      <td>0</td>\n",
              "      <td>0</td>\n",
              "    </tr>\n",
              "    <tr>\n",
              "      <th>2</th>\n",
              "      <td>0.693147</td>\n",
              "      <td>1.098612</td>\n",
              "      <td>6.935717</td>\n",
              "      <td>6.980633</td>\n",
              "      <td>3.637586</td>\n",
              "      <td>10.373831</td>\n",
              "      <td>-2.722257</td>\n",
              "      <td>0</td>\n",
              "      <td>0</td>\n",
              "      <td>1</td>\n",
              "      <td>0</td>\n",
              "    </tr>\n",
              "    <tr>\n",
              "      <th>3</th>\n",
              "      <td>2.397895</td>\n",
              "      <td>2.639057</td>\n",
              "      <td>9.303312</td>\n",
              "      <td>7.773776</td>\n",
              "      <td>3.761200</td>\n",
              "      <td>12.057210</td>\n",
              "      <td>-2.557808</td>\n",
              "      <td>0</td>\n",
              "      <td>0</td>\n",
              "      <td>0</td>\n",
              "      <td>0</td>\n",
              "    </tr>\n",
              "    <tr>\n",
              "      <th>4</th>\n",
              "      <td>1.098612</td>\n",
              "      <td>0.000000</td>\n",
              "      <td>6.736738</td>\n",
              "      <td>7.041261</td>\n",
              "      <td>3.496508</td>\n",
              "      <td>10.163455</td>\n",
              "      <td>-2.569761</td>\n",
              "      <td>0</td>\n",
              "      <td>0</td>\n",
              "      <td>0</td>\n",
              "      <td>1</td>\n",
              "    </tr>\n",
              "  </tbody>\n",
              "</table>\n",
              "</div>\n",
              "      <button class=\"colab-df-convert\" onclick=\"convertToInteractive('df-363de766-1e89-4394-97c2-e92078cf6fff')\"\n",
              "              title=\"Convert this dataframe to an interactive table.\"\n",
              "              style=\"display:none;\">\n",
              "        \n",
              "  <svg xmlns=\"http://www.w3.org/2000/svg\" height=\"24px\"viewBox=\"0 0 24 24\"\n",
              "       width=\"24px\">\n",
              "    <path d=\"M0 0h24v24H0V0z\" fill=\"none\"/>\n",
              "    <path d=\"M18.56 5.44l.94 2.06.94-2.06 2.06-.94-2.06-.94-.94-2.06-.94 2.06-2.06.94zm-11 1L8.5 8.5l.94-2.06 2.06-.94-2.06-.94L8.5 2.5l-.94 2.06-2.06.94zm10 10l.94 2.06.94-2.06 2.06-.94-2.06-.94-.94-2.06-.94 2.06-2.06.94z\"/><path d=\"M17.41 7.96l-1.37-1.37c-.4-.4-.92-.59-1.43-.59-.52 0-1.04.2-1.43.59L10.3 9.45l-7.72 7.72c-.78.78-.78 2.05 0 2.83L4 21.41c.39.39.9.59 1.41.59.51 0 1.02-.2 1.41-.59l7.78-7.78 2.81-2.81c.8-.78.8-2.07 0-2.86zM5.41 20L4 18.59l7.72-7.72 1.47 1.35L5.41 20z\"/>\n",
              "  </svg>\n",
              "      </button>\n",
              "      \n",
              "  <style>\n",
              "    .colab-df-container {\n",
              "      display:flex;\n",
              "      flex-wrap:wrap;\n",
              "      gap: 12px;\n",
              "    }\n",
              "\n",
              "    .colab-df-convert {\n",
              "      background-color: #E8F0FE;\n",
              "      border: none;\n",
              "      border-radius: 50%;\n",
              "      cursor: pointer;\n",
              "      display: none;\n",
              "      fill: #1967D2;\n",
              "      height: 32px;\n",
              "      padding: 0 0 0 0;\n",
              "      width: 32px;\n",
              "    }\n",
              "\n",
              "    .colab-df-convert:hover {\n",
              "      background-color: #E2EBFA;\n",
              "      box-shadow: 0px 1px 2px rgba(60, 64, 67, 0.3), 0px 1px 3px 1px rgba(60, 64, 67, 0.15);\n",
              "      fill: #174EA6;\n",
              "    }\n",
              "\n",
              "    [theme=dark] .colab-df-convert {\n",
              "      background-color: #3B4455;\n",
              "      fill: #D2E3FC;\n",
              "    }\n",
              "\n",
              "    [theme=dark] .colab-df-convert:hover {\n",
              "      background-color: #434B5C;\n",
              "      box-shadow: 0px 1px 3px 1px rgba(0, 0, 0, 0.15);\n",
              "      filter: drop-shadow(0px 1px 2px rgba(0, 0, 0, 0.3));\n",
              "      fill: #FFFFFF;\n",
              "    }\n",
              "  </style>\n",
              "\n",
              "      <script>\n",
              "        const buttonEl =\n",
              "          document.querySelector('#df-363de766-1e89-4394-97c2-e92078cf6fff button.colab-df-convert');\n",
              "        buttonEl.style.display =\n",
              "          google.colab.kernel.accessAllowed ? 'block' : 'none';\n",
              "\n",
              "        async function convertToInteractive(key) {\n",
              "          const element = document.querySelector('#df-363de766-1e89-4394-97c2-e92078cf6fff');\n",
              "          const dataTable =\n",
              "            await google.colab.kernel.invokeFunction('convertToInteractive',\n",
              "                                                     [key], {});\n",
              "          if (!dataTable) return;\n",
              "\n",
              "          const docLinkHtml = 'Like what you see? Visit the ' +\n",
              "            '<a target=\"_blank\" href=https://colab.research.google.com/notebooks/data_table.ipynb>data table notebook</a>'\n",
              "            + ' to learn more about interactive tables.';\n",
              "          element.innerHTML = '';\n",
              "          dataTable['output_type'] = 'display_data';\n",
              "          await google.colab.output.renderOutput(dataTable, element);\n",
              "          const docLink = document.createElement('div');\n",
              "          docLink.innerHTML = docLinkHtml;\n",
              "          element.appendChild(docLink);\n",
              "        }\n",
              "      </script>\n",
              "    </div>\n",
              "  </div>\n",
              "  "
            ]
          },
          "metadata": {},
          "execution_count": 219
        }
      ]
    },
    {
      "cell_type": "code",
      "source": [
        "y.head()"
      ],
      "metadata": {
        "id": "HT5h28XK8A7O",
        "outputId": "9c6f89a8-6195-4c2a-a5b8-f5e21a1bd94e",
        "colab": {
          "base_uri": "https://localhost:8080/"
        }
      },
      "execution_count": 220,
      "outputs": [
        {
          "output_type": "execute_result",
          "data": {
            "text/plain": [
              "0    1\n",
              "1    0\n",
              "2    0\n",
              "3    0\n",
              "4    1\n",
              "Name: VarObj_S, dtype: uint8"
            ]
          },
          "metadata": {},
          "execution_count": 220
        }
      ]
    },
    {
      "cell_type": "markdown",
      "source": [
        "# Entrenamiento de la Red Neuronal"
      ],
      "metadata": {
        "id": "w2KIoFTx_f2P"
      }
    },
    {
      "cell_type": "markdown",
      "source": [
        "### Split y Escalamiento"
      ],
      "metadata": {
        "id": "Ydd-H2kOUIfk"
      }
    },
    {
      "cell_type": "code",
      "source": [
        "from sklearn.model_selection import train_test_split\n",
        "X_train, X_test, y_train, y_test = train_test_split(X, y, train_size=0.8, test_size=0.2, random_state=12345)"
      ],
      "metadata": {
        "id": "ZSmi666UhxcD"
      },
      "execution_count": 221,
      "outputs": []
    },
    {
      "cell_type": "code",
      "source": [
        "from sklearn.preprocessing import StandardScaler\n",
        "sc = StandardScaler()\n",
        "X_train = sc.fit_transform(X_train)\n",
        "X_test = sc.transform(X_test)"
      ],
      "metadata": {
        "id": "0sgjSOg-lcE4"
      },
      "execution_count": 222,
      "outputs": []
    },
    {
      "cell_type": "markdown",
      "source": [
        "### Confguración de la Red Neuronal"
      ],
      "metadata": {
        "id": "pMrxwi5kUQq3"
      }
    },
    {
      "cell_type": "code",
      "source": [
        "from tensorflow.keras.callbacks import EarlyStopping , ModelCheckpoint\n",
        "from tensorflow.keras.losses import BinaryCrossentropy\n",
        "from tensorflow.keras.optimizers.schedules import ExponentialDecay\n",
        "from tensorflow.keras.optimizers import Adam, SGD"
      ],
      "metadata": {
        "id": "bArsatBin3U0"
      },
      "execution_count": 223,
      "outputs": []
    },
    {
      "cell_type": "code",
      "source": [
        "# CALLBACKS\n",
        "callback_es = EarlyStopping(monitor='val_loss', patience=30)\n",
        "callback_mc = ModelCheckpoint(path_base + '/models/' + 'best_model.hdf5', save_best_only=True, monitor='val_loss', mode='min')\n",
        "\n",
        "# LOSSES\n",
        "loss =  BinaryCrossentropy()\n",
        "#loss =  SparseCategoricalCrossentropy()\n",
        "\n",
        "# SCHEDULES\n",
        "lr_schedule_ED = ExponentialDecay(initial_learning_rate=1e-2,decay_steps=10,decay_rate=0.95)\n",
        "\n",
        "# OPTIMIZERS\n",
        "#opt =  Adam(learning_rate=1e-4)\n",
        "opt = SGD(learning_rate=0.01)"
      ],
      "metadata": {
        "id": "Q43lmvkcoXii"
      },
      "execution_count": 224,
      "outputs": []
    },
    {
      "cell_type": "code",
      "source": [
        "import tensorflow as tf\n",
        "from tensorflow import keras\n",
        "from keras.models import Sequential\n",
        "from keras.layers import Dense"
      ],
      "metadata": {
        "id": "EUqb9dAkW5-H"
      },
      "execution_count": 225,
      "outputs": []
    },
    {
      "cell_type": "code",
      "source": [
        "model = Sequential()\n",
        "model.add(Dense(100, input_dim=11,activation='relu'))\n",
        "model.add(Dense(50,activation='relu'))\n",
        "model.add(Dense(100,activation='relu'))\n",
        "model.add(Dense(50,activation='relu'))\n",
        "model.add(Dense(1,activation='sigmoid'))"
      ],
      "metadata": {
        "id": "x3ghL9lBgscA"
      },
      "execution_count": 226,
      "outputs": []
    },
    {
      "cell_type": "code",
      "source": [
        "model.compile(loss=loss, optimizer=opt, metrics=['accuracy'])\n",
        "model.summary()"
      ],
      "metadata": {
        "id": "4cbn0CDIoUS8",
        "outputId": "5163c1e5-533b-43ad-a860-3ab4d1baa368",
        "colab": {
          "base_uri": "https://localhost:8080/"
        }
      },
      "execution_count": 227,
      "outputs": [
        {
          "output_type": "stream",
          "name": "stdout",
          "text": [
            "Model: \"sequential\"\n",
            "_________________________________________________________________\n",
            " Layer (type)                Output Shape              Param #   \n",
            "=================================================================\n",
            " dense (Dense)               (None, 100)               1200      \n",
            "                                                                 \n",
            " dense_1 (Dense)             (None, 50)                5050      \n",
            "                                                                 \n",
            " dense_2 (Dense)             (None, 100)               5100      \n",
            "                                                                 \n",
            " dense_3 (Dense)             (None, 50)                5050      \n",
            "                                                                 \n",
            " dense_4 (Dense)             (None, 1)                 51        \n",
            "                                                                 \n",
            "=================================================================\n",
            "Total params: 16,451\n",
            "Trainable params: 16,451\n",
            "Non-trainable params: 0\n",
            "_________________________________________________________________\n"
          ]
        }
      ]
    },
    {
      "cell_type": "markdown",
      "source": [
        "### Entrenamiento"
      ],
      "metadata": {
        "id": "sMycFtbRUWNH"
      }
    },
    {
      "cell_type": "code",
      "source": [
        "max_epochs = 1000\n",
        "history = model.fit(X_train,y_train, epochs=max_epochs, validation_data=(X_test, y_test),batch_size=100, callbacks=[callback_es,callback_mc],verbose=1)"
      ],
      "metadata": {
        "id": "LZBe_TVwg1aP",
        "outputId": "5db5cd1a-7496-4913-bd4a-d439eaf6ad8f",
        "colab": {
          "base_uri": "https://localhost:8080/"
        }
      },
      "execution_count": 228,
      "outputs": [
        {
          "output_type": "stream",
          "name": "stdout",
          "text": [
            "Epoch 1/1000\n",
            "24/24 [==============================] - 3s 11ms/step - loss: 0.6614 - accuracy: 0.6833 - val_loss: 0.6209 - val_accuracy: 0.7900\n",
            "Epoch 2/1000\n",
            "24/24 [==============================] - 0s 5ms/step - loss: 0.5998 - accuracy: 0.7854 - val_loss: 0.5698 - val_accuracy: 0.7933\n",
            "Epoch 3/1000\n",
            "24/24 [==============================] - 0s 4ms/step - loss: 0.5568 - accuracy: 0.7862 - val_loss: 0.5338 - val_accuracy: 0.7933\n",
            "Epoch 4/1000\n",
            "24/24 [==============================] - 0s 4ms/step - loss: 0.5264 - accuracy: 0.7862 - val_loss: 0.5081 - val_accuracy: 0.7933\n",
            "Epoch 5/1000\n",
            "24/24 [==============================] - 0s 5ms/step - loss: 0.5041 - accuracy: 0.7862 - val_loss: 0.4888 - val_accuracy: 0.7933\n",
            "Epoch 6/1000\n",
            "24/24 [==============================] - 0s 4ms/step - loss: 0.4869 - accuracy: 0.7862 - val_loss: 0.4735 - val_accuracy: 0.7933\n",
            "Epoch 7/1000\n",
            "24/24 [==============================] - 0s 4ms/step - loss: 0.4727 - accuracy: 0.7862 - val_loss: 0.4605 - val_accuracy: 0.7933\n",
            "Epoch 8/1000\n",
            "24/24 [==============================] - 0s 4ms/step - loss: 0.4599 - accuracy: 0.7862 - val_loss: 0.4485 - val_accuracy: 0.7933\n",
            "Epoch 9/1000\n",
            "24/24 [==============================] - 0s 4ms/step - loss: 0.4479 - accuracy: 0.7862 - val_loss: 0.4373 - val_accuracy: 0.7933\n",
            "Epoch 10/1000\n",
            "24/24 [==============================] - 0s 5ms/step - loss: 0.4363 - accuracy: 0.7862 - val_loss: 0.4264 - val_accuracy: 0.7933\n",
            "Epoch 11/1000\n",
            "24/24 [==============================] - 0s 4ms/step - loss: 0.4250 - accuracy: 0.7862 - val_loss: 0.4158 - val_accuracy: 0.7933\n",
            "Epoch 12/1000\n",
            "24/24 [==============================] - 0s 5ms/step - loss: 0.4137 - accuracy: 0.7862 - val_loss: 0.4053 - val_accuracy: 0.7933\n",
            "Epoch 13/1000\n",
            "24/24 [==============================] - 0s 4ms/step - loss: 0.4025 - accuracy: 0.7862 - val_loss: 0.3950 - val_accuracy: 0.7933\n",
            "Epoch 14/1000\n",
            "24/24 [==============================] - 0s 4ms/step - loss: 0.3914 - accuracy: 0.7883 - val_loss: 0.3848 - val_accuracy: 0.7933\n",
            "Epoch 15/1000\n",
            "24/24 [==============================] - 0s 4ms/step - loss: 0.3804 - accuracy: 0.7908 - val_loss: 0.3751 - val_accuracy: 0.8017\n",
            "Epoch 16/1000\n",
            "24/24 [==============================] - 0s 5ms/step - loss: 0.3699 - accuracy: 0.7946 - val_loss: 0.3660 - val_accuracy: 0.8067\n",
            "Epoch 17/1000\n",
            "24/24 [==============================] - 0s 4ms/step - loss: 0.3601 - accuracy: 0.8050 - val_loss: 0.3572 - val_accuracy: 0.8167\n",
            "Epoch 18/1000\n",
            "24/24 [==============================] - 0s 4ms/step - loss: 0.3507 - accuracy: 0.8154 - val_loss: 0.3491 - val_accuracy: 0.8250\n",
            "Epoch 19/1000\n",
            "24/24 [==============================] - 0s 5ms/step - loss: 0.3421 - accuracy: 0.8250 - val_loss: 0.3416 - val_accuracy: 0.8300\n",
            "Epoch 20/1000\n",
            "24/24 [==============================] - 0s 4ms/step - loss: 0.3339 - accuracy: 0.8358 - val_loss: 0.3346 - val_accuracy: 0.8383\n",
            "Epoch 21/1000\n",
            "24/24 [==============================] - 0s 5ms/step - loss: 0.3263 - accuracy: 0.8433 - val_loss: 0.3282 - val_accuracy: 0.8400\n",
            "Epoch 22/1000\n",
            "24/24 [==============================] - 0s 4ms/step - loss: 0.3194 - accuracy: 0.8504 - val_loss: 0.3223 - val_accuracy: 0.8450\n",
            "Epoch 23/1000\n",
            "24/24 [==============================] - 0s 5ms/step - loss: 0.3129 - accuracy: 0.8579 - val_loss: 0.3164 - val_accuracy: 0.8517\n",
            "Epoch 24/1000\n",
            "24/24 [==============================] - 0s 4ms/step - loss: 0.3067 - accuracy: 0.8642 - val_loss: 0.3113 - val_accuracy: 0.8533\n",
            "Epoch 25/1000\n",
            "24/24 [==============================] - 0s 4ms/step - loss: 0.3012 - accuracy: 0.8658 - val_loss: 0.3062 - val_accuracy: 0.8583\n",
            "Epoch 26/1000\n",
            "24/24 [==============================] - 0s 5ms/step - loss: 0.2958 - accuracy: 0.8692 - val_loss: 0.3015 - val_accuracy: 0.8617\n",
            "Epoch 27/1000\n",
            "24/24 [==============================] - 0s 5ms/step - loss: 0.2911 - accuracy: 0.8733 - val_loss: 0.2973 - val_accuracy: 0.8617\n",
            "Epoch 28/1000\n",
            "24/24 [==============================] - 0s 4ms/step - loss: 0.2865 - accuracy: 0.8763 - val_loss: 0.2937 - val_accuracy: 0.8667\n",
            "Epoch 29/1000\n",
            "24/24 [==============================] - 0s 4ms/step - loss: 0.2823 - accuracy: 0.8779 - val_loss: 0.2900 - val_accuracy: 0.8700\n",
            "Epoch 30/1000\n",
            "24/24 [==============================] - 0s 5ms/step - loss: 0.2783 - accuracy: 0.8800 - val_loss: 0.2866 - val_accuracy: 0.8717\n",
            "Epoch 31/1000\n",
            "24/24 [==============================] - 0s 4ms/step - loss: 0.2747 - accuracy: 0.8800 - val_loss: 0.2835 - val_accuracy: 0.8717\n",
            "Epoch 32/1000\n",
            "24/24 [==============================] - 0s 4ms/step - loss: 0.2712 - accuracy: 0.8817 - val_loss: 0.2809 - val_accuracy: 0.8700\n",
            "Epoch 33/1000\n",
            "24/24 [==============================] - 0s 4ms/step - loss: 0.2681 - accuracy: 0.8821 - val_loss: 0.2779 - val_accuracy: 0.8700\n",
            "Epoch 34/1000\n",
            "24/24 [==============================] - 0s 4ms/step - loss: 0.2651 - accuracy: 0.8833 - val_loss: 0.2753 - val_accuracy: 0.8717\n",
            "Epoch 35/1000\n",
            "24/24 [==============================] - 0s 4ms/step - loss: 0.2619 - accuracy: 0.8838 - val_loss: 0.2729 - val_accuracy: 0.8733\n",
            "Epoch 36/1000\n",
            "24/24 [==============================] - 0s 4ms/step - loss: 0.2591 - accuracy: 0.8863 - val_loss: 0.2707 - val_accuracy: 0.8733\n",
            "Epoch 37/1000\n",
            "24/24 [==============================] - 0s 5ms/step - loss: 0.2565 - accuracy: 0.8850 - val_loss: 0.2687 - val_accuracy: 0.8767\n",
            "Epoch 38/1000\n",
            "24/24 [==============================] - 0s 4ms/step - loss: 0.2539 - accuracy: 0.8875 - val_loss: 0.2667 - val_accuracy: 0.8783\n",
            "Epoch 39/1000\n",
            "24/24 [==============================] - 0s 5ms/step - loss: 0.2513 - accuracy: 0.8908 - val_loss: 0.2649 - val_accuracy: 0.8867\n",
            "Epoch 40/1000\n",
            "24/24 [==============================] - 0s 5ms/step - loss: 0.2490 - accuracy: 0.8917 - val_loss: 0.2633 - val_accuracy: 0.8850\n",
            "Epoch 41/1000\n",
            "24/24 [==============================] - 0s 4ms/step - loss: 0.2470 - accuracy: 0.8938 - val_loss: 0.2617 - val_accuracy: 0.8833\n",
            "Epoch 42/1000\n",
            "24/24 [==============================] - 0s 4ms/step - loss: 0.2446 - accuracy: 0.8942 - val_loss: 0.2602 - val_accuracy: 0.8867\n",
            "Epoch 43/1000\n",
            "24/24 [==============================] - 0s 5ms/step - loss: 0.2425 - accuracy: 0.8942 - val_loss: 0.2589 - val_accuracy: 0.8883\n",
            "Epoch 44/1000\n",
            "24/24 [==============================] - 0s 4ms/step - loss: 0.2406 - accuracy: 0.8954 - val_loss: 0.2576 - val_accuracy: 0.8883\n",
            "Epoch 45/1000\n",
            "24/24 [==============================] - 0s 4ms/step - loss: 0.2387 - accuracy: 0.8979 - val_loss: 0.2564 - val_accuracy: 0.8883\n",
            "Epoch 46/1000\n",
            "24/24 [==============================] - 0s 4ms/step - loss: 0.2368 - accuracy: 0.8983 - val_loss: 0.2553 - val_accuracy: 0.8883\n",
            "Epoch 47/1000\n",
            "24/24 [==============================] - 0s 5ms/step - loss: 0.2352 - accuracy: 0.8992 - val_loss: 0.2543 - val_accuracy: 0.8867\n",
            "Epoch 48/1000\n",
            "24/24 [==============================] - 0s 4ms/step - loss: 0.2333 - accuracy: 0.9000 - val_loss: 0.2533 - val_accuracy: 0.8883\n",
            "Epoch 49/1000\n",
            "24/24 [==============================] - 0s 5ms/step - loss: 0.2316 - accuracy: 0.8996 - val_loss: 0.2523 - val_accuracy: 0.8917\n",
            "Epoch 50/1000\n",
            "24/24 [==============================] - 0s 4ms/step - loss: 0.2302 - accuracy: 0.9013 - val_loss: 0.2513 - val_accuracy: 0.8900\n",
            "Epoch 51/1000\n",
            "24/24 [==============================] - 0s 4ms/step - loss: 0.2284 - accuracy: 0.9000 - val_loss: 0.2504 - val_accuracy: 0.8900\n",
            "Epoch 52/1000\n",
            "24/24 [==============================] - 0s 5ms/step - loss: 0.2269 - accuracy: 0.9029 - val_loss: 0.2496 - val_accuracy: 0.8883\n",
            "Epoch 53/1000\n",
            "24/24 [==============================] - 0s 5ms/step - loss: 0.2254 - accuracy: 0.9008 - val_loss: 0.2487 - val_accuracy: 0.8917\n",
            "Epoch 54/1000\n",
            "24/24 [==============================] - 0s 4ms/step - loss: 0.2242 - accuracy: 0.9054 - val_loss: 0.2482 - val_accuracy: 0.8917\n",
            "Epoch 55/1000\n",
            "24/24 [==============================] - 0s 4ms/step - loss: 0.2228 - accuracy: 0.9033 - val_loss: 0.2473 - val_accuracy: 0.8933\n",
            "Epoch 56/1000\n",
            "24/24 [==============================] - 0s 4ms/step - loss: 0.2213 - accuracy: 0.9033 - val_loss: 0.2465 - val_accuracy: 0.8900\n",
            "Epoch 57/1000\n",
            "24/24 [==============================] - 0s 5ms/step - loss: 0.2198 - accuracy: 0.9058 - val_loss: 0.2458 - val_accuracy: 0.8900\n",
            "Epoch 58/1000\n",
            "24/24 [==============================] - 0s 5ms/step - loss: 0.2188 - accuracy: 0.9050 - val_loss: 0.2451 - val_accuracy: 0.8867\n",
            "Epoch 59/1000\n",
            "24/24 [==============================] - 0s 4ms/step - loss: 0.2175 - accuracy: 0.9083 - val_loss: 0.2445 - val_accuracy: 0.8883\n",
            "Epoch 60/1000\n",
            "24/24 [==============================] - 0s 4ms/step - loss: 0.2162 - accuracy: 0.9062 - val_loss: 0.2439 - val_accuracy: 0.8867\n",
            "Epoch 61/1000\n",
            "24/24 [==============================] - 0s 4ms/step - loss: 0.2152 - accuracy: 0.9071 - val_loss: 0.2433 - val_accuracy: 0.8867\n",
            "Epoch 62/1000\n",
            "24/24 [==============================] - 0s 4ms/step - loss: 0.2141 - accuracy: 0.9062 - val_loss: 0.2427 - val_accuracy: 0.8850\n",
            "Epoch 63/1000\n",
            "24/24 [==============================] - 0s 4ms/step - loss: 0.2128 - accuracy: 0.9067 - val_loss: 0.2421 - val_accuracy: 0.8867\n",
            "Epoch 64/1000\n",
            "24/24 [==============================] - 0s 4ms/step - loss: 0.2119 - accuracy: 0.9071 - val_loss: 0.2415 - val_accuracy: 0.8850\n",
            "Epoch 65/1000\n",
            "24/24 [==============================] - 0s 4ms/step - loss: 0.2111 - accuracy: 0.9071 - val_loss: 0.2411 - val_accuracy: 0.8883\n",
            "Epoch 66/1000\n",
            "24/24 [==============================] - 0s 4ms/step - loss: 0.2099 - accuracy: 0.9083 - val_loss: 0.2408 - val_accuracy: 0.8883\n",
            "Epoch 67/1000\n",
            "24/24 [==============================] - 0s 4ms/step - loss: 0.2093 - accuracy: 0.9071 - val_loss: 0.2400 - val_accuracy: 0.8867\n",
            "Epoch 68/1000\n",
            "24/24 [==============================] - 0s 4ms/step - loss: 0.2079 - accuracy: 0.9083 - val_loss: 0.2398 - val_accuracy: 0.8900\n",
            "Epoch 69/1000\n",
            "24/24 [==============================] - 0s 4ms/step - loss: 0.2076 - accuracy: 0.9067 - val_loss: 0.2391 - val_accuracy: 0.8867\n",
            "Epoch 70/1000\n",
            "24/24 [==============================] - 0s 4ms/step - loss: 0.2063 - accuracy: 0.9108 - val_loss: 0.2386 - val_accuracy: 0.8917\n",
            "Epoch 71/1000\n",
            "24/24 [==============================] - 0s 4ms/step - loss: 0.2052 - accuracy: 0.9092 - val_loss: 0.2383 - val_accuracy: 0.8950\n",
            "Epoch 72/1000\n",
            "24/24 [==============================] - 0s 5ms/step - loss: 0.2048 - accuracy: 0.9083 - val_loss: 0.2376 - val_accuracy: 0.8917\n",
            "Epoch 73/1000\n",
            "24/24 [==============================] - 0s 4ms/step - loss: 0.2038 - accuracy: 0.9100 - val_loss: 0.2372 - val_accuracy: 0.8950\n",
            "Epoch 74/1000\n",
            "24/24 [==============================] - 0s 4ms/step - loss: 0.2030 - accuracy: 0.9100 - val_loss: 0.2368 - val_accuracy: 0.8933\n",
            "Epoch 75/1000\n",
            "24/24 [==============================] - 0s 5ms/step - loss: 0.2022 - accuracy: 0.9087 - val_loss: 0.2366 - val_accuracy: 0.8933\n",
            "Epoch 76/1000\n",
            "24/24 [==============================] - 0s 4ms/step - loss: 0.2015 - accuracy: 0.9087 - val_loss: 0.2360 - val_accuracy: 0.8933\n",
            "Epoch 77/1000\n",
            "24/24 [==============================] - 0s 5ms/step - loss: 0.2005 - accuracy: 0.9104 - val_loss: 0.2354 - val_accuracy: 0.8950\n",
            "Epoch 78/1000\n",
            "24/24 [==============================] - 0s 4ms/step - loss: 0.1998 - accuracy: 0.9121 - val_loss: 0.2352 - val_accuracy: 0.8950\n",
            "Epoch 79/1000\n",
            "24/24 [==============================] - 0s 4ms/step - loss: 0.1990 - accuracy: 0.9092 - val_loss: 0.2347 - val_accuracy: 0.8950\n",
            "Epoch 80/1000\n",
            "24/24 [==============================] - 0s 5ms/step - loss: 0.1981 - accuracy: 0.9100 - val_loss: 0.2345 - val_accuracy: 0.8950\n",
            "Epoch 81/1000\n",
            "24/24 [==============================] - 0s 4ms/step - loss: 0.1976 - accuracy: 0.9104 - val_loss: 0.2340 - val_accuracy: 0.8967\n",
            "Epoch 82/1000\n",
            "24/24 [==============================] - 0s 4ms/step - loss: 0.1969 - accuracy: 0.9100 - val_loss: 0.2338 - val_accuracy: 0.8950\n",
            "Epoch 83/1000\n",
            "24/24 [==============================] - 0s 4ms/step - loss: 0.1964 - accuracy: 0.9104 - val_loss: 0.2333 - val_accuracy: 0.8950\n",
            "Epoch 84/1000\n",
            "24/24 [==============================] - 0s 4ms/step - loss: 0.1953 - accuracy: 0.9121 - val_loss: 0.2328 - val_accuracy: 0.9000\n",
            "Epoch 85/1000\n",
            "24/24 [==============================] - 0s 4ms/step - loss: 0.1950 - accuracy: 0.9129 - val_loss: 0.2322 - val_accuracy: 0.9000\n",
            "Epoch 86/1000\n",
            "24/24 [==============================] - 0s 5ms/step - loss: 0.1943 - accuracy: 0.9133 - val_loss: 0.2319 - val_accuracy: 0.8967\n",
            "Epoch 87/1000\n",
            "24/24 [==============================] - 0s 5ms/step - loss: 0.1930 - accuracy: 0.9108 - val_loss: 0.2318 - val_accuracy: 0.8967\n",
            "Epoch 88/1000\n",
            "24/24 [==============================] - 0s 4ms/step - loss: 0.1933 - accuracy: 0.9146 - val_loss: 0.2314 - val_accuracy: 0.8967\n",
            "Epoch 89/1000\n",
            "24/24 [==============================] - 0s 4ms/step - loss: 0.1926 - accuracy: 0.9125 - val_loss: 0.2310 - val_accuracy: 0.8967\n",
            "Epoch 90/1000\n",
            "24/24 [==============================] - 0s 4ms/step - loss: 0.1917 - accuracy: 0.9142 - val_loss: 0.2310 - val_accuracy: 0.9000\n",
            "Epoch 91/1000\n",
            "24/24 [==============================] - 0s 4ms/step - loss: 0.1912 - accuracy: 0.9129 - val_loss: 0.2305 - val_accuracy: 0.9017\n",
            "Epoch 92/1000\n",
            "24/24 [==============================] - 0s 3ms/step - loss: 0.1905 - accuracy: 0.9154 - val_loss: 0.2306 - val_accuracy: 0.9000\n",
            "Epoch 93/1000\n",
            "24/24 [==============================] - 0s 4ms/step - loss: 0.1896 - accuracy: 0.9112 - val_loss: 0.2309 - val_accuracy: 0.8967\n",
            "Epoch 94/1000\n",
            "24/24 [==============================] - 0s 4ms/step - loss: 0.1895 - accuracy: 0.9158 - val_loss: 0.2303 - val_accuracy: 0.8983\n",
            "Epoch 95/1000\n",
            "24/24 [==============================] - 0s 4ms/step - loss: 0.1886 - accuracy: 0.9179 - val_loss: 0.2297 - val_accuracy: 0.9017\n",
            "Epoch 96/1000\n",
            "24/24 [==============================] - 0s 5ms/step - loss: 0.1881 - accuracy: 0.9158 - val_loss: 0.2296 - val_accuracy: 0.9017\n",
            "Epoch 97/1000\n",
            "24/24 [==============================] - 0s 3ms/step - loss: 0.1874 - accuracy: 0.9183 - val_loss: 0.2299 - val_accuracy: 0.9000\n",
            "Epoch 98/1000\n",
            "24/24 [==============================] - 0s 4ms/step - loss: 0.1872 - accuracy: 0.9175 - val_loss: 0.2294 - val_accuracy: 0.9017\n",
            "Epoch 99/1000\n",
            "24/24 [==============================] - 0s 4ms/step - loss: 0.1864 - accuracy: 0.9192 - val_loss: 0.2291 - val_accuracy: 0.9033\n",
            "Epoch 100/1000\n",
            "24/24 [==============================] - 0s 4ms/step - loss: 0.1862 - accuracy: 0.9187 - val_loss: 0.2292 - val_accuracy: 0.9000\n",
            "Epoch 101/1000\n",
            "24/24 [==============================] - 0s 4ms/step - loss: 0.1858 - accuracy: 0.9200 - val_loss: 0.2291 - val_accuracy: 0.9017\n",
            "Epoch 102/1000\n",
            "24/24 [==============================] - 0s 4ms/step - loss: 0.1850 - accuracy: 0.9196 - val_loss: 0.2288 - val_accuracy: 0.9017\n",
            "Epoch 103/1000\n",
            "24/24 [==============================] - 0s 5ms/step - loss: 0.1848 - accuracy: 0.9196 - val_loss: 0.2286 - val_accuracy: 0.9017\n",
            "Epoch 104/1000\n",
            "24/24 [==============================] - 0s 4ms/step - loss: 0.1843 - accuracy: 0.9208 - val_loss: 0.2292 - val_accuracy: 0.8983\n",
            "Epoch 105/1000\n",
            "24/24 [==============================] - 0s 5ms/step - loss: 0.1842 - accuracy: 0.9204 - val_loss: 0.2285 - val_accuracy: 0.9000\n",
            "Epoch 106/1000\n",
            "24/24 [==============================] - 0s 3ms/step - loss: 0.1832 - accuracy: 0.9200 - val_loss: 0.2286 - val_accuracy: 0.9000\n",
            "Epoch 107/1000\n",
            "24/24 [==============================] - 0s 5ms/step - loss: 0.1829 - accuracy: 0.9217 - val_loss: 0.2284 - val_accuracy: 0.9000\n",
            "Epoch 108/1000\n",
            "24/24 [==============================] - 0s 3ms/step - loss: 0.1824 - accuracy: 0.9217 - val_loss: 0.2285 - val_accuracy: 0.9017\n",
            "Epoch 109/1000\n",
            "24/24 [==============================] - 0s 3ms/step - loss: 0.1822 - accuracy: 0.9196 - val_loss: 0.2285 - val_accuracy: 0.9000\n",
            "Epoch 110/1000\n",
            "24/24 [==============================] - 0s 4ms/step - loss: 0.1816 - accuracy: 0.9221 - val_loss: 0.2283 - val_accuracy: 0.9033\n",
            "Epoch 111/1000\n",
            "24/24 [==============================] - 0s 4ms/step - loss: 0.1813 - accuracy: 0.9204 - val_loss: 0.2281 - val_accuracy: 0.9017\n",
            "Epoch 112/1000\n",
            "24/24 [==============================] - 0s 5ms/step - loss: 0.1815 - accuracy: 0.9200 - val_loss: 0.2280 - val_accuracy: 0.8983\n",
            "Epoch 113/1000\n",
            "24/24 [==============================] - 0s 4ms/step - loss: 0.1804 - accuracy: 0.9208 - val_loss: 0.2283 - val_accuracy: 0.8983\n",
            "Epoch 114/1000\n",
            "24/24 [==============================] - 0s 4ms/step - loss: 0.1801 - accuracy: 0.9221 - val_loss: 0.2278 - val_accuracy: 0.9033\n",
            "Epoch 115/1000\n",
            "24/24 [==============================] - 0s 4ms/step - loss: 0.1795 - accuracy: 0.9204 - val_loss: 0.2282 - val_accuracy: 0.9050\n",
            "Epoch 116/1000\n",
            "24/24 [==============================] - 0s 4ms/step - loss: 0.1794 - accuracy: 0.9208 - val_loss: 0.2278 - val_accuracy: 0.9033\n",
            "Epoch 117/1000\n",
            "24/24 [==============================] - 0s 4ms/step - loss: 0.1788 - accuracy: 0.9212 - val_loss: 0.2276 - val_accuracy: 0.9000\n",
            "Epoch 118/1000\n",
            "24/24 [==============================] - 0s 4ms/step - loss: 0.1787 - accuracy: 0.9212 - val_loss: 0.2275 - val_accuracy: 0.9000\n",
            "Epoch 119/1000\n",
            "24/24 [==============================] - 0s 3ms/step - loss: 0.1784 - accuracy: 0.9233 - val_loss: 0.2281 - val_accuracy: 0.9000\n",
            "Epoch 120/1000\n",
            "24/24 [==============================] - 0s 4ms/step - loss: 0.1780 - accuracy: 0.9212 - val_loss: 0.2275 - val_accuracy: 0.9033\n",
            "Epoch 121/1000\n",
            "24/24 [==============================] - 0s 4ms/step - loss: 0.1773 - accuracy: 0.9229 - val_loss: 0.2270 - val_accuracy: 0.9083\n",
            "Epoch 122/1000\n",
            "24/24 [==============================] - 0s 4ms/step - loss: 0.1770 - accuracy: 0.9242 - val_loss: 0.2273 - val_accuracy: 0.9033\n",
            "Epoch 123/1000\n",
            "24/24 [==============================] - 0s 3ms/step - loss: 0.1768 - accuracy: 0.9237 - val_loss: 0.2273 - val_accuracy: 0.9067\n",
            "Epoch 124/1000\n",
            "24/24 [==============================] - 0s 4ms/step - loss: 0.1768 - accuracy: 0.9229 - val_loss: 0.2275 - val_accuracy: 0.9033\n",
            "Epoch 125/1000\n",
            "24/24 [==============================] - 0s 4ms/step - loss: 0.1762 - accuracy: 0.9242 - val_loss: 0.2274 - val_accuracy: 0.9017\n",
            "Epoch 126/1000\n",
            "24/24 [==============================] - 0s 4ms/step - loss: 0.1755 - accuracy: 0.9225 - val_loss: 0.2283 - val_accuracy: 0.8967\n",
            "Epoch 127/1000\n",
            "24/24 [==============================] - 0s 3ms/step - loss: 0.1755 - accuracy: 0.9250 - val_loss: 0.2275 - val_accuracy: 0.9050\n",
            "Epoch 128/1000\n",
            "24/24 [==============================] - 0s 4ms/step - loss: 0.1750 - accuracy: 0.9233 - val_loss: 0.2275 - val_accuracy: 0.9050\n",
            "Epoch 129/1000\n",
            "24/24 [==============================] - 0s 3ms/step - loss: 0.1748 - accuracy: 0.9250 - val_loss: 0.2278 - val_accuracy: 0.9033\n",
            "Epoch 130/1000\n",
            "24/24 [==============================] - 0s 3ms/step - loss: 0.1745 - accuracy: 0.9237 - val_loss: 0.2274 - val_accuracy: 0.9017\n",
            "Epoch 131/1000\n",
            "24/24 [==============================] - 0s 3ms/step - loss: 0.1744 - accuracy: 0.9246 - val_loss: 0.2278 - val_accuracy: 0.9017\n",
            "Epoch 132/1000\n",
            "24/24 [==============================] - 0s 4ms/step - loss: 0.1738 - accuracy: 0.9254 - val_loss: 0.2280 - val_accuracy: 0.9017\n",
            "Epoch 133/1000\n",
            "24/24 [==============================] - 0s 4ms/step - loss: 0.1733 - accuracy: 0.9217 - val_loss: 0.2277 - val_accuracy: 0.9000\n",
            "Epoch 134/1000\n",
            "24/24 [==============================] - 0s 4ms/step - loss: 0.1731 - accuracy: 0.9225 - val_loss: 0.2280 - val_accuracy: 0.9033\n",
            "Epoch 135/1000\n",
            "24/24 [==============================] - 0s 4ms/step - loss: 0.1735 - accuracy: 0.9254 - val_loss: 0.2278 - val_accuracy: 0.9017\n",
            "Epoch 136/1000\n",
            "24/24 [==============================] - 0s 4ms/step - loss: 0.1729 - accuracy: 0.9237 - val_loss: 0.2279 - val_accuracy: 0.9033\n",
            "Epoch 137/1000\n",
            "24/24 [==============================] - 0s 4ms/step - loss: 0.1727 - accuracy: 0.9242 - val_loss: 0.2283 - val_accuracy: 0.9033\n",
            "Epoch 138/1000\n",
            "24/24 [==============================] - 0s 4ms/step - loss: 0.1727 - accuracy: 0.9242 - val_loss: 0.2276 - val_accuracy: 0.9000\n",
            "Epoch 139/1000\n",
            "24/24 [==============================] - 0s 4ms/step - loss: 0.1723 - accuracy: 0.9237 - val_loss: 0.2275 - val_accuracy: 0.9000\n",
            "Epoch 140/1000\n",
            "24/24 [==============================] - 0s 4ms/step - loss: 0.1714 - accuracy: 0.9250 - val_loss: 0.2285 - val_accuracy: 0.9000\n",
            "Epoch 141/1000\n",
            "24/24 [==============================] - 0s 4ms/step - loss: 0.1715 - accuracy: 0.9246 - val_loss: 0.2278 - val_accuracy: 0.9017\n",
            "Epoch 142/1000\n",
            "24/24 [==============================] - 0s 4ms/step - loss: 0.1707 - accuracy: 0.9237 - val_loss: 0.2287 - val_accuracy: 0.9000\n",
            "Epoch 143/1000\n",
            "24/24 [==============================] - 0s 4ms/step - loss: 0.1709 - accuracy: 0.9262 - val_loss: 0.2281 - val_accuracy: 0.9033\n",
            "Epoch 144/1000\n",
            "24/24 [==============================] - 0s 4ms/step - loss: 0.1705 - accuracy: 0.9258 - val_loss: 0.2278 - val_accuracy: 0.9000\n",
            "Epoch 145/1000\n",
            "24/24 [==============================] - 0s 4ms/step - loss: 0.1703 - accuracy: 0.9237 - val_loss: 0.2276 - val_accuracy: 0.9017\n",
            "Epoch 146/1000\n",
            "24/24 [==============================] - 0s 4ms/step - loss: 0.1697 - accuracy: 0.9250 - val_loss: 0.2278 - val_accuracy: 0.9017\n",
            "Epoch 147/1000\n",
            "24/24 [==============================] - 0s 4ms/step - loss: 0.1697 - accuracy: 0.9242 - val_loss: 0.2281 - val_accuracy: 0.9000\n",
            "Epoch 148/1000\n",
            "24/24 [==============================] - 0s 4ms/step - loss: 0.1694 - accuracy: 0.9254 - val_loss: 0.2281 - val_accuracy: 0.9017\n",
            "Epoch 149/1000\n",
            "24/24 [==============================] - 0s 3ms/step - loss: 0.1691 - accuracy: 0.9267 - val_loss: 0.2284 - val_accuracy: 0.9017\n",
            "Epoch 150/1000\n",
            "24/24 [==============================] - 0s 3ms/step - loss: 0.1693 - accuracy: 0.9250 - val_loss: 0.2282 - val_accuracy: 0.9000\n",
            "Epoch 151/1000\n",
            "24/24 [==============================] - 0s 4ms/step - loss: 0.1690 - accuracy: 0.9258 - val_loss: 0.2279 - val_accuracy: 0.9000\n"
          ]
        }
      ]
    },
    {
      "cell_type": "markdown",
      "source": [
        "# Evaluación"
      ],
      "metadata": {
        "id": "Y_RJbnDH_fur"
      }
    },
    {
      "cell_type": "code",
      "source": [
        "acc = history.history['accuracy']\n",
        "test_acc = history.history['val_accuracy']\n",
        "\n",
        "loss = history.history['loss']\n",
        "test_loss = history.history['val_loss']"
      ],
      "metadata": {
        "id": "jAm6YlzqsQBK"
      },
      "execution_count": 229,
      "outputs": []
    },
    {
      "cell_type": "code",
      "source": [
        "figura, (ax1, ax2) = plt.subplots(nrows=1, ncols=2, figsize=(20,10))\n",
        "\n",
        "n_epochs = len(acc)\n",
        "\n",
        "ax1.plot(range(n_epochs), acc, label='Training accuracy')\n",
        "ax1.plot(range(n_epochs), test_acc, label='Test accuracy')\n",
        "ax1.set_title('Accuracy')\n",
        "ax1.legend()\n",
        "\n",
        "ax2.plot(range(n_epochs), loss, label='Training loss')\n",
        "ax2.plot(range(n_epochs), test_loss, label='Test loss')\n",
        "ax2.set_title('Loss')\n",
        "ax2.legend()"
      ],
      "metadata": {
        "id": "hnZOn_PrsR4u",
        "outputId": "3cb1b5b0-22e9-4bfe-fbe0-5deeadbdbd86",
        "colab": {
          "base_uri": "https://localhost:8080/",
          "height": 628
        }
      },
      "execution_count": 230,
      "outputs": [
        {
          "output_type": "execute_result",
          "data": {
            "text/plain": [
              "<matplotlib.legend.Legend at 0x7f9b6e3d4b10>"
            ]
          },
          "metadata": {},
          "execution_count": 230
        },
        {
          "output_type": "display_data",
          "data": {
            "text/plain": [
              "<Figure size 1440x720 with 2 Axes>"
            ],
            "image/png": "[encoded data removed]"
          },
          "metadata": {}
        }
      ]
    },
    {
      "cell_type": "code",
      "source": [
        "from sklearn.metrics import confusion_matrix\n",
        "from mlxtend.plotting import plot_confusion_matrix"
      ],
      "metadata": {
        "id": "C1mrhoHogVb9"
      },
      "execution_count": 231,
      "outputs": []
    },
    {
      "cell_type": "code",
      "source": [
        "y_pred = model.predict(X_test)\n",
        "y_pred = np.round(y_pred)"
      ],
      "metadata": {
        "id": "NdZBUNdzsdeX"
      },
      "execution_count": 232,
      "outputs": []
    },
    {
      "cell_type": "code",
      "source": [
        "fig, ax = plot_confusion_matrix(conf_mat=confusion_matrix(y_test,y_pred), figsize=(6,6),cmap = cmap)\n",
        "plt.title('Matriz de confusión')\n",
        "plt.show()"
      ],
      "metadata": {
        "id": "fOeMBYg3g7tm",
        "outputId": "15951f3c-40f9-4e65-84f8-d1ba3e939b36",
        "colab": {
          "base_uri": "https://localhost:8080/",
          "height": 426
        }
      },
      "execution_count": 233,
      "outputs": [
        {
          "output_type": "display_data",
          "data": {
            "text/plain": [
              "<Figure size 432x432 with 1 Axes>"
            ],
            "image/png": "[encoded data removed]"
          },
          "metadata": {}
        }
      ]
    },
    {
      "cell_type": "code",
      "source": [
        "model.evaluate(X_test, y_test)"
      ],
      "metadata": {
        "id": "ErMO0hGuW_s6",
        "outputId": "944bb17b-7323-479d-d17a-00bb58a7e282",
        "colab": {
          "base_uri": "https://localhost:8080/"
        }
      },
      "execution_count": 234,
      "outputs": [
        {
          "output_type": "stream",
          "name": "stdout",
          "text": [
            "19/19 [==============================] - 0s 2ms/step - loss: 0.2279 - accuracy: 0.9000\n"
          ]
        },
        {
          "output_type": "execute_result",
          "data": {
            "text/plain": [
              "[0.22793950140476227, 0.8999999761581421]"
            ]
          },
          "metadata": {},
          "execution_count": 234
        }
      ]
    },
    {
      "cell_type": "code",
      "source": [
        "from tensorflow import keras\n",
        "best_model = keras.models.load_model(path_base + '/models/' + 'best_model.hdf5')"
      ],
      "metadata": {
        "id": "O34jLozps0mU"
      },
      "execution_count": 235,
      "outputs": []
    },
    {
      "cell_type": "code",
      "source": [
        "y_pred = best_model.predict(X_test)\n",
        "y_pred = np.round(y_pred)"
      ],
      "metadata": {
        "id": "OBAuYAH8s7QF"
      },
      "execution_count": 236,
      "outputs": []
    },
    {
      "cell_type": "code",
      "source": [
        "fig, ax = plot_confusion_matrix(conf_mat=confusion_matrix(y_test,y_pred), figsize=(6,6),cmap = cmap)\n",
        "plt.title('Matriz de confusión')\n",
        "plt.show()"
      ],
      "metadata": {
        "id": "brjz8gS6tDpk",
        "outputId": "ffe11d2e-7c2a-4cc0-bb28-8df19751cd6b",
        "colab": {
          "base_uri": "https://localhost:8080/",
          "height": 426
        }
      },
      "execution_count": 237,
      "outputs": [
        {
          "output_type": "display_data",
          "data": {
            "text/plain": [
              "<Figure size 432x432 with 1 Axes>"
            ],
            "image/png": "[encoded data removed]"
          },
          "metadata": {}
        }
      ]
    },
    {
      "cell_type": "code",
      "source": [
        "model.evaluate(X_test, y_test)"
      ],
      "metadata": {
        "id": "WyxELfshtLix",
        "outputId": "522b45c3-5645-4986-e543-de37d4ad6277",
        "colab": {
          "base_uri": "https://localhost:8080/"
        }
      },
      "execution_count": 238,
      "outputs": [
        {
          "output_type": "stream",
          "name": "stdout",
          "text": [
            "19/19 [==============================] - 0s 2ms/step - loss: 0.2279 - accuracy: 0.9000\n"
          ]
        },
        {
          "output_type": "execute_result",
          "data": {
            "text/plain": [
              "[0.22793950140476227, 0.8999999761581421]"
            ]
          },
          "metadata": {},
          "execution_count": 238
        }
      ]
    }
  ]
}